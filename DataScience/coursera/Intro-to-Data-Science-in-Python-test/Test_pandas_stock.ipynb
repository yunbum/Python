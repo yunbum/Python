{
 "cells": [
  {
   "cell_type": "code",
   "execution_count": 22,
   "metadata": {},
   "outputs": [],
   "source": [
    "import numpy as np\n",
    "import matplotlib.pyplot as plt\n",
    "import pandas as pd\n",
    "from pandas import Series, DataFrame"
   ]
  },
  {
   "cell_type": "code",
   "execution_count": 23,
   "metadata": {},
   "outputs": [],
   "source": [
    "df = pd.read_csv('000020-1.csv',index_col=0)"
   ]
  },
  {
   "cell_type": "code",
   "execution_count": 24,
   "metadata": {
    "scrolled": true
   },
   "outputs": [
    {
     "data": {
      "text/html": [
       "<div>\n",
       "<style scoped>\n",
       "    .dataframe tbody tr th:only-of-type {\n",
       "        vertical-align: middle;\n",
       "    }\n",
       "\n",
       "    .dataframe tbody tr th {\n",
       "        vertical-align: top;\n",
       "    }\n",
       "\n",
       "    .dataframe thead th {\n",
       "        text-align: right;\n",
       "    }\n",
       "</style>\n",
       "<table border=\"1\" class=\"dataframe\">\n",
       "  <thead>\n",
       "    <tr style=\"text-align: right;\">\n",
       "      <th></th>\n",
       "      <th>Close</th>\n",
       "      <th>Open</th>\n",
       "      <th>High</th>\n",
       "      <th>Low</th>\n",
       "      <th>Volume</th>\n",
       "      <th>Code</th>\n",
       "      <th>Up&amp;Down</th>\n",
       "      <th>Rate</th>\n",
       "    </tr>\n",
       "    <tr>\n",
       "      <th>Date</th>\n",
       "      <th></th>\n",
       "      <th></th>\n",
       "      <th></th>\n",
       "      <th></th>\n",
       "      <th></th>\n",
       "      <th></th>\n",
       "      <th></th>\n",
       "      <th></th>\n",
       "    </tr>\n",
       "  </thead>\n",
       "  <tbody>\n",
       "    <tr>\n",
       "      <th>2005-04-27</th>\n",
       "      <td>11250</td>\n",
       "      <td>10750</td>\n",
       "      <td>11500</td>\n",
       "      <td>10650</td>\n",
       "      <td>31610</td>\n",
       "      <td>20</td>\n",
       "      <td>0</td>\n",
       "      <td>0.000000</td>\n",
       "    </tr>\n",
       "    <tr>\n",
       "      <th>2005-04-28</th>\n",
       "      <td>11050</td>\n",
       "      <td>11200</td>\n",
       "      <td>11450</td>\n",
       "      <td>10950</td>\n",
       "      <td>12670</td>\n",
       "      <td>20</td>\n",
       "      <td>-200</td>\n",
       "      <td>-1.777778</td>\n",
       "    </tr>\n",
       "    <tr>\n",
       "      <th>2005-04-29</th>\n",
       "      <td>10900</td>\n",
       "      <td>10550</td>\n",
       "      <td>10950</td>\n",
       "      <td>10550</td>\n",
       "      <td>15280</td>\n",
       "      <td>20</td>\n",
       "      <td>-150</td>\n",
       "      <td>-1.357466</td>\n",
       "    </tr>\n",
       "    <tr>\n",
       "      <th>2005-05-02</th>\n",
       "      <td>11200</td>\n",
       "      <td>10900</td>\n",
       "      <td>11300</td>\n",
       "      <td>10750</td>\n",
       "      <td>71860</td>\n",
       "      <td>20</td>\n",
       "      <td>300</td>\n",
       "      <td>2.752294</td>\n",
       "    </tr>\n",
       "    <tr>\n",
       "      <th>2005-05-03</th>\n",
       "      <td>11700</td>\n",
       "      <td>11450</td>\n",
       "      <td>12150</td>\n",
       "      <td>11400</td>\n",
       "      <td>150848</td>\n",
       "      <td>20</td>\n",
       "      <td>500</td>\n",
       "      <td>4.464286</td>\n",
       "    </tr>\n",
       "  </tbody>\n",
       "</table>\n",
       "</div>"
      ],
      "text/plain": [
       "            Close   Open   High    Low  Volume  Code  Up&Down      Rate\n",
       "Date                                                                   \n",
       "2005-04-27  11250  10750  11500  10650   31610    20        0  0.000000\n",
       "2005-04-28  11050  11200  11450  10950   12670    20     -200 -1.777778\n",
       "2005-04-29  10900  10550  10950  10550   15280    20     -150 -1.357466\n",
       "2005-05-02  11200  10900  11300  10750   71860    20      300  2.752294\n",
       "2005-05-03  11700  11450  12150  11400  150848    20      500  4.464286"
      ]
     },
     "execution_count": 24,
     "metadata": {},
     "output_type": "execute_result"
    }
   ],
   "source": [
    "df.head()"
   ]
  },
  {
   "cell_type": "code",
   "execution_count": 46,
   "metadata": {},
   "outputs": [
    {
     "data": {
      "text/plain": [
       "Index(['Close', 'Open', 'High', 'Low', 'Volume', 'Code', 'Up&Down', 'Rate'], dtype='object')"
      ]
     },
     "execution_count": 46,
     "metadata": {},
     "output_type": "execute_result"
    }
   ],
   "source": [
    "df.columns"
   ]
  },
  {
   "cell_type": "code",
   "execution_count": 28,
   "metadata": {},
   "outputs": [
    {
     "data": {
      "text/html": [
       "<div>\n",
       "<style scoped>\n",
       "    .dataframe tbody tr th:only-of-type {\n",
       "        vertical-align: middle;\n",
       "    }\n",
       "\n",
       "    .dataframe tbody tr th {\n",
       "        vertical-align: top;\n",
       "    }\n",
       "\n",
       "    .dataframe thead th {\n",
       "        text-align: right;\n",
       "    }\n",
       "</style>\n",
       "<table border=\"1\" class=\"dataframe\">\n",
       "  <thead>\n",
       "    <tr style=\"text-align: right;\">\n",
       "      <th></th>\n",
       "      <th>Close</th>\n",
       "      <th>Open</th>\n",
       "      <th>High</th>\n",
       "      <th>Low</th>\n",
       "      <th>Volume</th>\n",
       "      <th>Code</th>\n",
       "      <th>Up&amp;Down</th>\n",
       "      <th>Rate</th>\n",
       "    </tr>\n",
       "    <tr>\n",
       "      <th>Date</th>\n",
       "      <th></th>\n",
       "      <th></th>\n",
       "      <th></th>\n",
       "      <th></th>\n",
       "      <th></th>\n",
       "      <th></th>\n",
       "      <th></th>\n",
       "      <th></th>\n",
       "    </tr>\n",
       "  </thead>\n",
       "  <tbody>\n",
       "  </tbody>\n",
       "</table>\n",
       "</div>"
      ],
      "text/plain": [
       "Empty DataFrame\n",
       "Columns: [Close, Open, High, Low, Volume, Code, Up&Down, Rate]\n",
       "Index: []"
      ]
     },
     "execution_count": 28,
     "metadata": {},
     "output_type": "execute_result"
    }
   ],
   "source": [
    "df.head(0)"
   ]
  },
  {
   "cell_type": "code",
   "execution_count": 27,
   "metadata": {},
   "outputs": [
    {
     "data": {
      "text/plain": [
       "Date\n",
       "2005-04-27    11250\n",
       "2005-04-28    11050\n",
       "Name: Close, dtype: int64"
      ]
     },
     "execution_count": 27,
     "metadata": {},
     "output_type": "execute_result"
    }
   ],
   "source": [
    "df['Close'].head(2)"
   ]
  },
  {
   "cell_type": "code",
   "execution_count": 30,
   "metadata": {},
   "outputs": [
    {
     "data": {
      "text/plain": [
       "3025"
      ]
     },
     "execution_count": 30,
     "metadata": {},
     "output_type": "execute_result"
    }
   ],
   "source": [
    "df['Open'].count()"
   ]
  },
  {
   "cell_type": "code",
   "execution_count": 34,
   "metadata": {},
   "outputs": [],
   "source": [
    "only_up = df.where(df['Up&Down'] >0)"
   ]
  },
  {
   "cell_type": "code",
   "execution_count": 37,
   "metadata": {},
   "outputs": [
    {
     "data": {
      "text/plain": [
       "1383"
      ]
     },
     "execution_count": 37,
     "metadata": {},
     "output_type": "execute_result"
    }
   ],
   "source": [
    "only_up['Close'].count()"
   ]
  },
  {
   "cell_type": "code",
   "execution_count": 39,
   "metadata": {},
   "outputs": [
    {
     "data": {
      "text/html": [
       "<div>\n",
       "<style scoped>\n",
       "    .dataframe tbody tr th:only-of-type {\n",
       "        vertical-align: middle;\n",
       "    }\n",
       "\n",
       "    .dataframe tbody tr th {\n",
       "        vertical-align: top;\n",
       "    }\n",
       "\n",
       "    .dataframe thead th {\n",
       "        text-align: right;\n",
       "    }\n",
       "</style>\n",
       "<table border=\"1\" class=\"dataframe\">\n",
       "  <thead>\n",
       "    <tr style=\"text-align: right;\">\n",
       "      <th></th>\n",
       "      <th>Close</th>\n",
       "      <th>Open</th>\n",
       "      <th>High</th>\n",
       "      <th>Low</th>\n",
       "      <th>Volume</th>\n",
       "      <th>Code</th>\n",
       "      <th>Up&amp;Down</th>\n",
       "      <th>Rate</th>\n",
       "    </tr>\n",
       "    <tr>\n",
       "      <th>Date</th>\n",
       "      <th></th>\n",
       "      <th></th>\n",
       "      <th></th>\n",
       "      <th></th>\n",
       "      <th></th>\n",
       "      <th></th>\n",
       "      <th></th>\n",
       "      <th></th>\n",
       "    </tr>\n",
       "  </thead>\n",
       "  <tbody>\n",
       "    <tr>\n",
       "      <th>2005-04-27</th>\n",
       "      <td>NaN</td>\n",
       "      <td>NaN</td>\n",
       "      <td>NaN</td>\n",
       "      <td>NaN</td>\n",
       "      <td>NaN</td>\n",
       "      <td>NaN</td>\n",
       "      <td>NaN</td>\n",
       "      <td>NaN</td>\n",
       "    </tr>\n",
       "    <tr>\n",
       "      <th>2005-04-28</th>\n",
       "      <td>NaN</td>\n",
       "      <td>NaN</td>\n",
       "      <td>NaN</td>\n",
       "      <td>NaN</td>\n",
       "      <td>NaN</td>\n",
       "      <td>NaN</td>\n",
       "      <td>NaN</td>\n",
       "      <td>NaN</td>\n",
       "    </tr>\n",
       "    <tr>\n",
       "      <th>2005-04-29</th>\n",
       "      <td>NaN</td>\n",
       "      <td>NaN</td>\n",
       "      <td>NaN</td>\n",
       "      <td>NaN</td>\n",
       "      <td>NaN</td>\n",
       "      <td>NaN</td>\n",
       "      <td>NaN</td>\n",
       "      <td>NaN</td>\n",
       "    </tr>\n",
       "    <tr>\n",
       "      <th>2005-05-02</th>\n",
       "      <td>11200.0</td>\n",
       "      <td>10900.0</td>\n",
       "      <td>11300.0</td>\n",
       "      <td>10750.0</td>\n",
       "      <td>71860.0</td>\n",
       "      <td>20.0</td>\n",
       "      <td>300.0</td>\n",
       "      <td>2.752294</td>\n",
       "    </tr>\n",
       "    <tr>\n",
       "      <th>2005-05-03</th>\n",
       "      <td>11700.0</td>\n",
       "      <td>11450.0</td>\n",
       "      <td>12150.0</td>\n",
       "      <td>11400.0</td>\n",
       "      <td>150848.0</td>\n",
       "      <td>20.0</td>\n",
       "      <td>500.0</td>\n",
       "      <td>4.464286</td>\n",
       "    </tr>\n",
       "  </tbody>\n",
       "</table>\n",
       "</div>"
      ],
      "text/plain": [
       "              Close     Open     High      Low    Volume  Code  Up&Down  \\\n",
       "Date                                                                      \n",
       "2005-04-27      NaN      NaN      NaN      NaN       NaN   NaN      NaN   \n",
       "2005-04-28      NaN      NaN      NaN      NaN       NaN   NaN      NaN   \n",
       "2005-04-29      NaN      NaN      NaN      NaN       NaN   NaN      NaN   \n",
       "2005-05-02  11200.0  10900.0  11300.0  10750.0   71860.0  20.0    300.0   \n",
       "2005-05-03  11700.0  11450.0  12150.0  11400.0  150848.0  20.0    500.0   \n",
       "\n",
       "                Rate  \n",
       "Date                  \n",
       "2005-04-27       NaN  \n",
       "2005-04-28       NaN  \n",
       "2005-04-29       NaN  \n",
       "2005-05-02  2.752294  \n",
       "2005-05-03  4.464286  "
      ]
     },
     "execution_count": 39,
     "metadata": {},
     "output_type": "execute_result"
    }
   ],
   "source": [
    "only_up.head()"
   ]
  },
  {
   "cell_type": "code",
   "execution_count": 42,
   "metadata": {},
   "outputs": [
    {
     "data": {
      "text/html": [
       "<div>\n",
       "<style scoped>\n",
       "    .dataframe tbody tr th:only-of-type {\n",
       "        vertical-align: middle;\n",
       "    }\n",
       "\n",
       "    .dataframe tbody tr th {\n",
       "        vertical-align: top;\n",
       "    }\n",
       "\n",
       "    .dataframe thead th {\n",
       "        text-align: right;\n",
       "    }\n",
       "</style>\n",
       "<table border=\"1\" class=\"dataframe\">\n",
       "  <thead>\n",
       "    <tr style=\"text-align: right;\">\n",
       "      <th></th>\n",
       "      <th>Close</th>\n",
       "      <th>Open</th>\n",
       "      <th>High</th>\n",
       "      <th>Low</th>\n",
       "      <th>Volume</th>\n",
       "      <th>Code</th>\n",
       "      <th>Up&amp;Down</th>\n",
       "      <th>Rate</th>\n",
       "    </tr>\n",
       "    <tr>\n",
       "      <th>Date</th>\n",
       "      <th></th>\n",
       "      <th></th>\n",
       "      <th></th>\n",
       "      <th></th>\n",
       "      <th></th>\n",
       "      <th></th>\n",
       "      <th></th>\n",
       "      <th></th>\n",
       "    </tr>\n",
       "  </thead>\n",
       "  <tbody>\n",
       "    <tr>\n",
       "      <th>2005-05-02</th>\n",
       "      <td>11200.0</td>\n",
       "      <td>10900.0</td>\n",
       "      <td>11300.0</td>\n",
       "      <td>10750.0</td>\n",
       "      <td>71860.0</td>\n",
       "      <td>20.0</td>\n",
       "      <td>300.0</td>\n",
       "      <td>2.752294</td>\n",
       "    </tr>\n",
       "    <tr>\n",
       "      <th>2005-05-03</th>\n",
       "      <td>11700.0</td>\n",
       "      <td>11450.0</td>\n",
       "      <td>12150.0</td>\n",
       "      <td>11400.0</td>\n",
       "      <td>150848.0</td>\n",
       "      <td>20.0</td>\n",
       "      <td>500.0</td>\n",
       "      <td>4.464286</td>\n",
       "    </tr>\n",
       "    <tr>\n",
       "      <th>2005-05-04</th>\n",
       "      <td>13450.0</td>\n",
       "      <td>13450.0</td>\n",
       "      <td>13450.0</td>\n",
       "      <td>13450.0</td>\n",
       "      <td>425714.0</td>\n",
       "      <td>20.0</td>\n",
       "      <td>1750.0</td>\n",
       "      <td>14.957265</td>\n",
       "    </tr>\n",
       "    <tr>\n",
       "      <th>2005-05-06</th>\n",
       "      <td>13850.0</td>\n",
       "      <td>15000.0</td>\n",
       "      <td>15400.0</td>\n",
       "      <td>13600.0</td>\n",
       "      <td>984975.0</td>\n",
       "      <td>20.0</td>\n",
       "      <td>400.0</td>\n",
       "      <td>2.973978</td>\n",
       "    </tr>\n",
       "    <tr>\n",
       "      <th>2005-05-09</th>\n",
       "      <td>14400.0</td>\n",
       "      <td>14200.0</td>\n",
       "      <td>14550.0</td>\n",
       "      <td>13600.0</td>\n",
       "      <td>444290.0</td>\n",
       "      <td>20.0</td>\n",
       "      <td>550.0</td>\n",
       "      <td>3.971119</td>\n",
       "    </tr>\n",
       "  </tbody>\n",
       "</table>\n",
       "</div>"
      ],
      "text/plain": [
       "              Close     Open     High      Low    Volume  Code  Up&Down  \\\n",
       "Date                                                                      \n",
       "2005-05-02  11200.0  10900.0  11300.0  10750.0   71860.0  20.0    300.0   \n",
       "2005-05-03  11700.0  11450.0  12150.0  11400.0  150848.0  20.0    500.0   \n",
       "2005-05-04  13450.0  13450.0  13450.0  13450.0  425714.0  20.0   1750.0   \n",
       "2005-05-06  13850.0  15000.0  15400.0  13600.0  984975.0  20.0    400.0   \n",
       "2005-05-09  14400.0  14200.0  14550.0  13600.0  444290.0  20.0    550.0   \n",
       "\n",
       "                 Rate  \n",
       "Date                   \n",
       "2005-05-02   2.752294  \n",
       "2005-05-03   4.464286  \n",
       "2005-05-04  14.957265  \n",
       "2005-05-06   2.973978  \n",
       "2005-05-09   3.971119  "
      ]
     },
     "execution_count": 42,
     "metadata": {},
     "output_type": "execute_result"
    }
   ],
   "source": [
    "only_up.dropna().head()"
   ]
  },
  {
   "cell_type": "code",
   "execution_count": 45,
   "metadata": {},
   "outputs": [
    {
     "data": {
      "text/plain": [
       "Close      11200.000000\n",
       "Open       10900.000000\n",
       "High       11300.000000\n",
       "Low        10750.000000\n",
       "Volume     71860.000000\n",
       "Code          20.000000\n",
       "Up&Down      300.000000\n",
       "Rate           2.752294\n",
       "Name: 2005-05-02, dtype: float64"
      ]
     },
     "execution_count": 45,
     "metadata": {},
     "output_type": "execute_result"
    }
   ],
   "source": [
    "df.loc['2005-05-02']"
   ]
  },
  {
   "cell_type": "code",
   "execution_count": 47,
   "metadata": {},
   "outputs": [
    {
     "data": {
      "text/html": [
       "<div>\n",
       "<style scoped>\n",
       "    .dataframe tbody tr th:only-of-type {\n",
       "        vertical-align: middle;\n",
       "    }\n",
       "\n",
       "    .dataframe tbody tr th {\n",
       "        vertical-align: top;\n",
       "    }\n",
       "\n",
       "    .dataframe thead th {\n",
       "        text-align: right;\n",
       "    }\n",
       "</style>\n",
       "<table border=\"1\" class=\"dataframe\">\n",
       "  <thead>\n",
       "    <tr style=\"text-align: right;\">\n",
       "      <th></th>\n",
       "      <th>Close</th>\n",
       "      <th>Open</th>\n",
       "      <th>High</th>\n",
       "      <th>Low</th>\n",
       "      <th>Volume</th>\n",
       "      <th>Code</th>\n",
       "      <th>Up&amp;Down</th>\n",
       "      <th>Rate</th>\n",
       "    </tr>\n",
       "  </thead>\n",
       "  <tbody>\n",
       "    <tr>\n",
       "      <th>count</th>\n",
       "      <td>3025.000000</td>\n",
       "      <td>3025.000000</td>\n",
       "      <td>3025.000000</td>\n",
       "      <td>3025.000000</td>\n",
       "      <td>3.025000e+03</td>\n",
       "      <td>3025.0</td>\n",
       "      <td>3025.000000</td>\n",
       "      <td>3025.000000</td>\n",
       "    </tr>\n",
       "    <tr>\n",
       "      <th>mean</th>\n",
       "      <td>17195.021488</td>\n",
       "      <td>16950.712397</td>\n",
       "      <td>17323.710744</td>\n",
       "      <td>16586.414876</td>\n",
       "      <td>1.197873e+05</td>\n",
       "      <td>20.0</td>\n",
       "      <td>-0.942149</td>\n",
       "      <td>0.052135</td>\n",
       "    </tr>\n",
       "    <tr>\n",
       "      <th>std</th>\n",
       "      <td>18341.319384</td>\n",
       "      <td>18226.411341</td>\n",
       "      <td>18679.677975</td>\n",
       "      <td>17747.869906</td>\n",
       "      <td>1.862912e+05</td>\n",
       "      <td>0.0</td>\n",
       "      <td>1094.898587</td>\n",
       "      <td>2.997461</td>\n",
       "    </tr>\n",
       "    <tr>\n",
       "      <th>min</th>\n",
       "      <td>4070.000000</td>\n",
       "      <td>0.000000</td>\n",
       "      <td>0.000000</td>\n",
       "      <td>0.000000</td>\n",
       "      <td>0.000000e+00</td>\n",
       "      <td>20.0</td>\n",
       "      <td>-40010.000000</td>\n",
       "      <td>-80.828283</td>\n",
       "    </tr>\n",
       "    <tr>\n",
       "      <th>25%</th>\n",
       "      <td>5600.000000</td>\n",
       "      <td>5570.000000</td>\n",
       "      <td>5670.000000</td>\n",
       "      <td>5500.000000</td>\n",
       "      <td>3.737000e+04</td>\n",
       "      <td>20.0</td>\n",
       "      <td>-100.000000</td>\n",
       "      <td>-1.188119</td>\n",
       "    </tr>\n",
       "    <tr>\n",
       "      <th>50%</th>\n",
       "      <td>7920.000000</td>\n",
       "      <td>7880.000000</td>\n",
       "      <td>8000.000000</td>\n",
       "      <td>7770.000000</td>\n",
       "      <td>6.732000e+04</td>\n",
       "      <td>20.0</td>\n",
       "      <td>0.000000</td>\n",
       "      <td>0.000000</td>\n",
       "    </tr>\n",
       "    <tr>\n",
       "      <th>75%</th>\n",
       "      <td>25200.000000</td>\n",
       "      <td>24400.000000</td>\n",
       "      <td>25300.000000</td>\n",
       "      <td>23700.000000</td>\n",
       "      <td>1.274530e+05</td>\n",
       "      <td>20.0</td>\n",
       "      <td>105.000000</td>\n",
       "      <td>1.224944</td>\n",
       "    </tr>\n",
       "    <tr>\n",
       "      <th>max</th>\n",
       "      <td>93000.000000</td>\n",
       "      <td>99700.000000</td>\n",
       "      <td>100000.000000</td>\n",
       "      <td>87000.000000</td>\n",
       "      <td>2.844188e+06</td>\n",
       "      <td>20.0</td>\n",
       "      <td>9200.000000</td>\n",
       "      <td>14.987715</td>\n",
       "    </tr>\n",
       "  </tbody>\n",
       "</table>\n",
       "</div>"
      ],
      "text/plain": [
       "              Close          Open           High           Low        Volume  \\\n",
       "count   3025.000000   3025.000000    3025.000000   3025.000000  3.025000e+03   \n",
       "mean   17195.021488  16950.712397   17323.710744  16586.414876  1.197873e+05   \n",
       "std    18341.319384  18226.411341   18679.677975  17747.869906  1.862912e+05   \n",
       "min     4070.000000      0.000000       0.000000      0.000000  0.000000e+00   \n",
       "25%     5600.000000   5570.000000    5670.000000   5500.000000  3.737000e+04   \n",
       "50%     7920.000000   7880.000000    8000.000000   7770.000000  6.732000e+04   \n",
       "75%    25200.000000  24400.000000   25300.000000  23700.000000  1.274530e+05   \n",
       "max    93000.000000  99700.000000  100000.000000  87000.000000  2.844188e+06   \n",
       "\n",
       "         Code       Up&Down         Rate  \n",
       "count  3025.0   3025.000000  3025.000000  \n",
       "mean     20.0     -0.942149     0.052135  \n",
       "std       0.0   1094.898587     2.997461  \n",
       "min      20.0 -40010.000000   -80.828283  \n",
       "25%      20.0   -100.000000    -1.188119  \n",
       "50%      20.0      0.000000     0.000000  \n",
       "75%      20.0    105.000000     1.224944  \n",
       "max      20.0   9200.000000    14.987715  "
      ]
     },
     "execution_count": 47,
     "metadata": {},
     "output_type": "execute_result"
    }
   ],
   "source": [
    "df.describe()"
   ]
  },
  {
   "cell_type": "code",
   "execution_count": null,
   "metadata": {},
   "outputs": [],
   "source": []
  },
  {
   "cell_type": "code",
   "execution_count": null,
   "metadata": {},
   "outputs": [],
   "source": []
  }
 ],
 "metadata": {
  "kernelspec": {
   "display_name": "Python 3",
   "language": "python",
   "name": "python3"
  },
  "language_info": {
   "codemirror_mode": {
    "name": "ipython",
    "version": 3
   },
   "file_extension": ".py",
   "mimetype": "text/x-python",
   "name": "python",
   "nbconvert_exporter": "python",
   "pygments_lexer": "ipython3",
   "version": "3.6.4"
  }
 },
 "nbformat": 4,
 "nbformat_minor": 2
}
