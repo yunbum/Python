{
 "cells": [
  {
   "cell_type": "code",
   "execution_count": 1,
   "metadata": {
    "ExecuteTime": {
     "end_time": "2019-07-21T16:03:45.132384Z",
     "start_time": "2019-07-21T16:03:44.714501Z"
    },
    "collapsed": true
   },
   "outputs": [
    {
     "ename": "ModuleNotFoundError",
     "evalue": "No module named 'torchvision'",
     "output_type": "error",
     "traceback": [
      "\u001b[1;31m---------------------------------------------------------------------------\u001b[0m",
      "\u001b[1;31mModuleNotFoundError\u001b[0m                       Traceback (most recent call last)",
      "\u001b[1;32m<ipython-input-1-8449143439f3>\u001b[0m in \u001b[0;36m<module>\u001b[1;34m\u001b[0m\n\u001b[0;32m      1\u001b[0m \u001b[1;32mimport\u001b[0m \u001b[0mos\u001b[0m\u001b[1;33m\u001b[0m\u001b[1;33m\u001b[0m\u001b[0m\n\u001b[1;32m----> 2\u001b[1;33m \u001b[1;32mimport\u001b[0m \u001b[0mtorchvision\u001b[0m\u001b[1;33m\u001b[0m\u001b[1;33m\u001b[0m\u001b[0m\n\u001b[0m\u001b[0;32m      3\u001b[0m \u001b[1;33m\u001b[0m\u001b[0m\n\u001b[0;32m      4\u001b[0m \u001b[1;32mfrom\u001b[0m \u001b[0mtorchvision\u001b[0m \u001b[1;32mimport\u001b[0m \u001b[0mtransforms\u001b[0m\u001b[1;33m\u001b[0m\u001b[1;33m\u001b[0m\u001b[0m\n\u001b[0;32m      5\u001b[0m \u001b[1;32mfrom\u001b[0m \u001b[0mtorch\u001b[0m\u001b[1;33m.\u001b[0m\u001b[0mutils\u001b[0m\u001b[1;33m.\u001b[0m\u001b[0mdata\u001b[0m \u001b[1;32mimport\u001b[0m \u001b[0mDataLoader\u001b[0m\u001b[1;33m\u001b[0m\u001b[1;33m\u001b[0m\u001b[0m\n",
      "\u001b[1;31mModuleNotFoundError\u001b[0m: No module named 'torchvision'"
     ]
    }
   ],
   "source": [
    "import os\n",
    "import torchvision\n",
    "\n",
    "from torchvision import transforms\n",
    "from torch.utils.data import DataLoader\n"
   ]
  },
  {
   "cell_type": "code",
   "execution_count": 2,
   "metadata": {
    "ExecuteTime": {
     "end_time": "2019-07-20T16:23:36.515984Z",
     "start_time": "2019-07-20T16:23:36.069506Z"
    }
   },
   "outputs": [],
   "source": [
    "from matplotlib.pyplot import imshow\n",
    "%matplotlib inline"
   ]
  },
  {
   "cell_type": "code",
   "execution_count": 3,
   "metadata": {
    "ExecuteTime": {
     "end_time": "2019-07-20T16:23:37.343086Z",
     "start_time": "2019-07-20T16:23:37.182248Z"
    },
    "collapsed": true
   },
   "outputs": [
    {
     "name": "stdout",
     "output_type": "stream",
     "text": [
      "\u001b[34mApplications\u001b[m\u001b[m/        \u001b[34mGoogle 드라이브\u001b[m\u001b[m/     \u001b[34mPublic\u001b[m\u001b[m/\r\n",
      "\u001b[34mDesktop\u001b[m\u001b[m/             \u001b[34mLibrary\u001b[m\u001b[m/             \u001b[34mPycharmProjects\u001b[m\u001b[m/\r\n",
      "\u001b[34mDocuments\u001b[m\u001b[m/           \u001b[34mMovies\u001b[m\u001b[m/              \u001b[34mpython\u001b[m\u001b[m/\r\n",
      "\u001b[34mDownloads\u001b[m\u001b[m/           \u001b[34mMusic\u001b[m\u001b[m/               \u001b[34mrl\u001b[m\u001b[m/\r\n",
      "\u001b[34mDropbox\u001b[m\u001b[m/             \u001b[34mPictures\u001b[m\u001b[m/\r\n"
     ]
    }
   ],
   "source": [
    "ls /Users/ybbaek/"
   ]
  },
  {
   "cell_type": "code",
   "execution_count": 4,
   "metadata": {
    "ExecuteTime": {
     "end_time": "2019-07-20T16:23:38.075744Z",
     "start_time": "2019-07-20T16:23:38.070069Z"
    }
   },
   "outputs": [],
   "source": [
    "trimg_fpath  ='/Users/ybbaek/Dropbox/projects/DeepLearning/dataset/dataset_MetalImg/img_metal_training'\n",
    "tstimg_fpath ='/Users/ybbaek/Dropbox/projects/DeepLearning/dataset/dataset_MetalImg/img_metal_test'\n"
   ]
  },
  {
   "cell_type": "code",
   "execution_count": 5,
   "metadata": {
    "ExecuteTime": {
     "end_time": "2019-07-20T16:23:38.963187Z",
     "start_time": "2019-07-20T16:23:38.954897Z"
    }
   },
   "outputs": [],
   "source": [
    "# 참고만, 본 예제에서는 상관 없음\n",
    "trans = transforms.Compose([\n",
    "        transforms.Resize((64,128))\n",
    "])"
   ]
  },
  {
   "cell_type": "code",
   "execution_count": null,
   "metadata": {},
   "outputs": [],
   "source": []
  },
  {
   "cell_type": "code",
   "execution_count": 6,
   "metadata": {
    "ExecuteTime": {
     "end_time": "2019-07-20T16:23:40.675880Z",
     "start_time": "2019-07-20T16:23:40.599446Z"
    }
   },
   "outputs": [],
   "source": [
    "train_data = torchvision.datasets.ImageFolder(root=trimg_fpath, \n",
    "                                              transform=None)\n",
    "\n",
    "test_data = torchvision.datasets.ImageFolder(root=tstimg_fpath, \n",
    "                                              transform=None)\n"
   ]
  },
  {
   "cell_type": "code",
   "execution_count": 7,
   "metadata": {
    "ExecuteTime": {
     "end_time": "2019-07-20T16:23:41.978367Z",
     "start_time": "2019-07-20T16:23:41.933490Z"
    }
   },
   "outputs": [
    {
     "data": {
      "image/png": "[encoded data removed]",
      "text/plain": [
       "<PIL.Image.Image image mode=RGB size=28x28 at 0x11FEA36A0>"
      ]
     },
     "execution_count": 7,
     "metadata": {},
     "output_type": "execute_result"
    }
   ],
   "source": [
    "train_data[0][0]\n",
    "# result > <PIL.Image.Image image mode=RGB size=28x28 at 0x12ADD9978>,"
   ]
  },
  {
   "cell_type": "code",
   "execution_count": 8,
   "metadata": {
    "ExecuteTime": {
     "end_time": "2019-07-20T16:23:43.049527Z",
     "start_time": "2019-07-20T16:23:42.737479Z"
    }
   },
   "outputs": [
    {
     "name": "stdout",
     "output_type": "stream",
     "text": [
      "0 <PIL.Image.Image image mode=RGB size=28x28 at 0x11FFD3898> 0\n",
      "1 <PIL.Image.Image image mode=RGB size=28x28 at 0x1200455F8> 0\n",
      "2 <PIL.Image.Image image mode=RGB size=28x28 at 0x120045940> 0\n"
     ]
    },
    {
     "data": {
      "image/png": "[encoded data removed]",
      "text/plain": [
       "<Figure size 432x288 with 1 Axes>"
      ]
     },
     "metadata": {
      "needs_background": "light"
     },
     "output_type": "display_data"
    }
   ],
   "source": [
    "for num, value in enumerate(train_data):\n",
    "    data, label = value\n",
    "    print(num, data, label)\n",
    "    imshow(data)\n",
    "    if num==2:\n",
    "        break"
   ]
  },
  {
   "cell_type": "code",
   "execution_count": 9,
   "metadata": {
    "ExecuteTime": {
     "end_time": "2019-07-20T16:23:43.779667Z",
     "start_time": "2019-07-20T16:23:43.769440Z"
    }
   },
   "outputs": [
    {
     "data": {
      "image/png": "[encoded data removed]",
      "text/plain": [
       "<PIL.Image.Image image mode=RGB size=28x28 at 0x120045940>"
      ]
     },
     "execution_count": 9,
     "metadata": {},
     "output_type": "execute_result"
    }
   ],
   "source": [
    "data"
   ]
  },
  {
   "cell_type": "code",
   "execution_count": 10,
   "metadata": {
    "ExecuteTime": {
     "end_time": "2019-07-20T16:23:44.627573Z",
     "start_time": "2019-07-20T16:23:44.618599Z"
    }
   },
   "outputs": [
    {
     "data": {
      "image/png": "[encoded data removed]",
      "text/plain": [
       "<PIL.Image.Image image mode=RGB size=28x28 at 0x1096CFE48>"
      ]
     },
     "execution_count": 10,
     "metadata": {},
     "output_type": "execute_result"
    }
   ],
   "source": [
    "train_data.__getitem__(0)[0]"
   ]
  },
  {
   "cell_type": "code",
   "execution_count": 11,
   "metadata": {
    "ExecuteTime": {
     "end_time": "2019-07-20T16:23:45.212978Z",
     "start_time": "2019-07-20T16:23:45.202207Z"
    }
   },
   "outputs": [
    {
     "data": {
      "text/plain": [
       "2100"
      ]
     },
     "execution_count": 11,
     "metadata": {},
     "output_type": "execute_result"
    }
   ],
   "source": [
    "train_data.__len__()"
   ]
  },
  {
   "cell_type": "code",
   "execution_count": 12,
   "metadata": {
    "ExecuteTime": {
     "end_time": "2019-07-20T16:23:45.881790Z",
     "start_time": "2019-07-20T16:23:45.871238Z"
    }
   },
   "outputs": [
    {
     "data": {
      "image/png": "[encoded data removed]",
      "text/plain": [
       "<PIL.Image.Image image mode=RGB size=28x28 at 0x1220AA198>"
      ]
     },
     "execution_count": 12,
     "metadata": {},
     "output_type": "execute_result"
    }
   ],
   "source": [
    "test_data[0][0]"
   ]
  },
  {
   "cell_type": "code",
   "execution_count": 13,
   "metadata": {
    "ExecuteTime": {
     "end_time": "2019-07-20T16:23:46.541135Z",
     "start_time": "2019-07-20T16:23:46.529916Z"
    }
   },
   "outputs": [
    {
     "data": {
      "text/plain": [
       "'/Users/ybbaek/Dropbox/projects/DeepLearning/ML/sample/Pytorch'"
      ]
     },
     "execution_count": 13,
     "metadata": {},
     "output_type": "execute_result"
    }
   ],
   "source": [
    "pwd"
   ]
  },
  {
   "cell_type": "code",
   "execution_count": 14,
   "metadata": {
    "ExecuteTime": {
     "end_time": "2019-07-20T16:23:47.575964Z",
     "start_time": "2019-07-20T16:23:47.568176Z"
    }
   },
   "outputs": [],
   "source": [
    "tmp_path='/Users/ybbaek/Dropbox/projects/DeepLearning/ML/sample/Pytorch/data'\n"
   ]
  },
  {
   "cell_type": "code",
   "execution_count": 15,
   "metadata": {
    "ExecuteTime": {
     "end_time": "2019-07-20T16:23:48.256417Z",
     "start_time": "2019-07-20T16:23:48.247835Z"
    }
   },
   "outputs": [
    {
     "data": {
      "text/plain": [
       "'/Users/ybbaek/Dropbox/projects/DeepLearning/ML/sample/Pytorch/data/%d_%d.jpeg'"
      ]
     },
     "execution_count": 15,
     "metadata": {},
     "output_type": "execute_result"
    }
   ],
   "source": [
    "tmp_path2 = tmp_path +'/%d_%d.jpeg'\n",
    "tmp_path2"
   ]
  },
  {
   "cell_type": "code",
   "execution_count": 16,
   "metadata": {
    "ExecuteTime": {
     "end_time": "2019-07-20T16:23:48.802332Z",
     "start_time": "2019-07-20T16:23:48.796841Z"
    }
   },
   "outputs": [],
   "source": [
    "data.save(tmp_path2 %(num, label))\n"
   ]
  },
  {
   "cell_type": "code",
   "execution_count": 17,
   "metadata": {
    "ExecuteTime": {
     "end_time": "2019-07-20T16:23:49.354260Z",
     "start_time": "2019-07-20T16:23:49.346727Z"
    }
   },
   "outputs": [
    {
     "data": {
      "text/plain": [
       "2100"
      ]
     },
     "execution_count": 17,
     "metadata": {},
     "output_type": "execute_result"
    }
   ],
   "source": [
    "len(train_data)"
   ]
  },
  {
   "cell_type": "markdown",
   "metadata": {},
   "source": [
    "# - Metal image test"
   ]
  },
  {
   "cell_type": "code",
   "execution_count": 18,
   "metadata": {
    "ExecuteTime": {
     "end_time": "2019-07-20T16:23:50.860494Z",
     "start_time": "2019-07-20T16:23:50.848729Z"
    }
   },
   "outputs": [],
   "source": [
    "import torch\n",
    "import torch.nn as nn\n",
    "import torch.nn.functional as F\n",
    "import torch.optim as optim\n",
    "\n",
    "from torch.utils.data import DataLoader\n",
    "\n",
    "import torchvision\n",
    "import torchvision.transforms as transforms"
   ]
  },
  {
   "cell_type": "code",
   "execution_count": 19,
   "metadata": {
    "ExecuteTime": {
     "end_time": "2019-07-20T16:23:52.079617Z",
     "start_time": "2019-07-20T16:23:51.646771Z"
    }
   },
   "outputs": [
    {
     "name": "stderr",
     "output_type": "stream",
     "text": [
      "WARNING:root:Setting up a new session...\n"
     ]
    },
    {
     "data": {
      "text/plain": [
       "''"
      ]
     },
     "execution_count": 19,
     "metadata": {},
     "output_type": "execute_result"
    }
   ],
   "source": [
    "import visdom\n",
    "\n",
    "vis = visdom.Visdom()\n",
    "vis.close(env='main')"
   ]
  },
  {
   "cell_type": "code",
   "execution_count": 20,
   "metadata": {
    "ExecuteTime": {
     "end_time": "2019-07-20T16:23:53.258430Z",
     "start_time": "2019-07-20T16:23:53.246797Z"
    }
   },
   "outputs": [],
   "source": [
    "def loss_tracker(loss_plot, loss_val, num):\n",
    "    vis.line(X=num,\n",
    "            Y=loss_val,\n",
    "            win= loss_plot,\n",
    "            update='append')"
   ]
  },
  {
   "cell_type": "code",
   "execution_count": 21,
   "metadata": {
    "ExecuteTime": {
     "end_time": "2019-07-20T16:23:54.279871Z",
     "start_time": "2019-07-20T16:23:54.267998Z"
    }
   },
   "outputs": [],
   "source": [
    "device = 'cuda' if torch.cuda.is_available() else 'cpu'\n",
    "\n",
    "torch.manual_seed(777)\n",
    "if device == 'cuda':\n",
    "    torch.cuda.manual_seed_all(777)"
   ]
  },
  {
   "cell_type": "code",
   "execution_count": 22,
   "metadata": {
    "ExecuteTime": {
     "end_time": "2019-07-20T16:23:55.136107Z",
     "start_time": "2019-07-20T16:23:55.097647Z"
    }
   },
   "outputs": [],
   "source": [
    "trans = transforms.Compose([\n",
    "    transforms.ToTensor()\n",
    "])\n",
    "\n",
    "train_data = torchvision.datasets.ImageFolder(root=trimg_fpath, \n",
    "                                              transform=trans)"
   ]
  },
  {
   "cell_type": "code",
   "execution_count": 23,
   "metadata": {
    "ExecuteTime": {
     "end_time": "2019-07-20T16:24:03.391647Z",
     "start_time": "2019-07-20T16:24:03.296764Z"
    },
    "collapsed": true
   },
   "outputs": [
    {
     "data": {
      "text/plain": [
       "(tensor([[[1., 1., 1.,  ..., 1., 1., 1.],\n",
       "          [1., 1., 1.,  ..., 1., 1., 1.],\n",
       "          [1., 1., 1.,  ..., 1., 1., 1.],\n",
       "          ...,\n",
       "          [1., 1., 1.,  ..., 1., 1., 1.],\n",
       "          [1., 1., 1.,  ..., 1., 1., 1.],\n",
       "          [1., 1., 1.,  ..., 1., 1., 1.]],\n",
       " \n",
       "         [[1., 1., 1.,  ..., 1., 1., 1.],\n",
       "          [1., 1., 1.,  ..., 1., 1., 1.],\n",
       "          [1., 1., 1.,  ..., 1., 1., 1.],\n",
       "          ...,\n",
       "          [1., 1., 1.,  ..., 1., 1., 1.],\n",
       "          [1., 1., 1.,  ..., 1., 1., 1.],\n",
       "          [1., 1., 1.,  ..., 1., 1., 1.]],\n",
       " \n",
       "         [[1., 1., 1.,  ..., 1., 1., 1.],\n",
       "          [1., 1., 1.,  ..., 1., 1., 1.],\n",
       "          [1., 1., 1.,  ..., 1., 1., 1.],\n",
       "          ...,\n",
       "          [1., 1., 1.,  ..., 1., 1., 1.],\n",
       "          [1., 1., 1.,  ..., 1., 1., 1.],\n",
       "          [1., 1., 1.,  ..., 1., 1., 1.]]]), 0)"
      ]
     },
     "execution_count": 23,
     "metadata": {},
     "output_type": "execute_result"
    }
   ],
   "source": [
    "train_data[0]"
   ]
  },
  {
   "cell_type": "code",
   "execution_count": null,
   "metadata": {},
   "outputs": [],
   "source": []
  },
  {
   "cell_type": "code",
   "execution_count": 24,
   "metadata": {
    "ExecuteTime": {
     "end_time": "2019-07-20T16:24:04.716692Z",
     "start_time": "2019-07-20T16:24:04.689795Z"
    }
   },
   "outputs": [
    {
     "data": {
      "text/plain": [
       "'window_378d38b7011774'"
      ]
     },
     "execution_count": 24,
     "metadata": {},
     "output_type": "execute_result"
    }
   ],
   "source": [
    "vis.images(train_data[1][0], env='main')"
   ]
  },
  {
   "cell_type": "code",
   "execution_count": 25,
   "metadata": {
    "ExecuteTime": {
     "end_time": "2019-07-20T16:24:05.880178Z",
     "start_time": "2019-07-20T16:24:05.823917Z"
    }
   },
   "outputs": [],
   "source": [
    "for i in range(7):\n",
    "    #print(i)\n",
    "    vis.images(train_data[i*300][0], env='main')"
   ]
  },
  {
   "cell_type": "code",
   "execution_count": null,
   "metadata": {},
   "outputs": [],
   "source": []
  },
  {
   "cell_type": "code",
   "execution_count": 26,
   "metadata": {
    "ExecuteTime": {
     "end_time": "2019-07-20T16:24:07.095559Z",
     "start_time": "2019-07-20T16:24:07.090112Z"
    }
   },
   "outputs": [],
   "source": [
    "data_loader = DataLoader(dataset=train_data, \n",
    "                         batch_size=8,\n",
    "                         shuffle=True,\n",
    "                        num_workers=2)"
   ]
  },
  {
   "cell_type": "code",
   "execution_count": 27,
   "metadata": {
    "ExecuteTime": {
     "end_time": "2019-07-20T16:24:07.625919Z",
     "start_time": "2019-07-20T16:24:07.609995Z"
    }
   },
   "outputs": [
    {
     "data": {
      "text/plain": [
       "263"
      ]
     },
     "execution_count": 27,
     "metadata": {},
     "output_type": "execute_result"
    }
   ],
   "source": [
    "len(data_loader)"
   ]
  },
  {
   "cell_type": "code",
   "execution_count": 28,
   "metadata": {
    "ExecuteTime": {
     "end_time": "2019-07-20T16:24:08.121170Z",
     "start_time": "2019-07-20T16:24:08.112924Z"
    }
   },
   "outputs": [
    {
     "data": {
      "text/plain": [
       "<torch.utils.data.dataloader.DataLoader at 0x12237eac8>"
      ]
     },
     "execution_count": 28,
     "metadata": {},
     "output_type": "execute_result"
    }
   ],
   "source": [
    "data_loader"
   ]
  },
  {
   "cell_type": "code",
   "execution_count": null,
   "metadata": {},
   "outputs": [],
   "source": []
  },
  {
   "cell_type": "code",
   "execution_count": 29,
   "metadata": {
    "ExecuteTime": {
     "end_time": "2019-07-20T16:24:09.417415Z",
     "start_time": "2019-07-20T16:24:09.404198Z"
    }
   },
   "outputs": [],
   "source": [
    "class CNN(nn.Module):\n",
    "    def __init__(self):\n",
    "        super(CNN, self).__init__()\n",
    "        self.layer1 = nn.Sequential(\n",
    "            nn.Conv2d(3,6,3,padding=1), #input, output, filter size\n",
    "            nn.ReLU(),\n",
    "            nn.MaxPool2d(2),\n",
    "        )\n",
    "        \n",
    "        self.layer2 = nn.Sequential(\n",
    "            nn.Conv2d(6,16,3,padding=1),\n",
    "            nn.ReLU(),\n",
    "            nn.MaxPool2d(2),\n",
    "        )\n",
    "        \n",
    "        self.layer3 = nn.Sequential(\n",
    "            nn.Linear(7*7*16, 120),\n",
    "            nn.ReLU(),\n",
    "            nn.Linear(120,7)\n",
    "        )\n",
    "        \n",
    "    def forward(self, x):\n",
    "        out = self.layer1(x)\n",
    "        #print(out.shape) #size check\n",
    "        out = self.layer2(out)\n",
    "        #print(out.shape) #size check\n",
    "        out = out.view(out.shape[0], -1)\n",
    "        #print(out.shape) #size check\n",
    "        out = self.layer3(out)\n",
    "        #print(out.shape)\n",
    "        return out\n",
    "        "
   ]
  },
  {
   "cell_type": "code",
   "execution_count": 30,
   "metadata": {
    "ExecuteTime": {
     "end_time": "2019-07-20T16:24:10.253720Z",
     "start_time": "2019-07-20T16:24:10.069947Z"
    }
   },
   "outputs": [],
   "source": [
    "#testing\n",
    "net = CNN().to(device)\n",
    "test_input = (torch.Tensor(3,3,28,28).to(device))\n",
    "test_out = net(test_input)"
   ]
  },
  {
   "cell_type": "code",
   "execution_count": 31,
   "metadata": {
    "ExecuteTime": {
     "end_time": "2019-07-20T16:24:10.528520Z",
     "start_time": "2019-07-20T16:24:10.517859Z"
    }
   },
   "outputs": [],
   "source": [
    "optimizer = optim.Adam(net.parameters(), lr=0.00005)\n",
    "loss_func = nn.CrossEntropyLoss().to(device)"
   ]
  },
  {
   "cell_type": "code",
   "execution_count": 32,
   "metadata": {
    "ExecuteTime": {
     "end_time": "2019-07-20T16:24:11.013442Z",
     "start_time": "2019-07-20T16:24:11.006683Z"
    }
   },
   "outputs": [
    {
     "data": {
      "text/plain": [
       "263"
      ]
     },
     "execution_count": 32,
     "metadata": {},
     "output_type": "execute_result"
    }
   ],
   "source": [
    "total_batch = len(data_loader)\n",
    "total_batch"
   ]
  },
  {
   "cell_type": "code",
   "execution_count": 33,
   "metadata": {
    "ExecuteTime": {
     "end_time": "2019-07-20T16:24:11.788667Z",
     "start_time": "2019-07-20T16:24:11.785465Z"
    }
   },
   "outputs": [],
   "source": [
    "# √ç≈˜µ≤Ωåß©˚˙¬…æ…œ∑´øπΩ≈˜µ≤≥ç√"
   ]
  },
  {
   "cell_type": "code",
   "execution_count": 34,
   "metadata": {
    "ExecuteTime": {
     "end_time": "2019-07-20T16:24:12.701679Z",
     "start_time": "2019-07-20T16:24:12.685115Z"
    }
   },
   "outputs": [],
   "source": [
    "loss_plt = vis.line(Y=torch.Tensor(1).zero_(),\n",
    "                    opts=dict(title='loss_tracker',\n",
    "                    legend=['loss'],\n",
    "                    showlegend=True))"
   ]
  },
  {
   "cell_type": "code",
   "execution_count": 35,
   "metadata": {
    "ExecuteTime": {
     "end_time": "2019-07-20T16:26:42.914407Z",
     "start_time": "2019-07-20T16:24:13.309870Z"
    },
    "scrolled": true
   },
   "outputs": [
    {
     "name": "stdout",
     "output_type": "stream",
     "text": [
      "[Epoch:1] cost= 1.937699317932129\n",
      "[Epoch:2] cost= 1.8894773721694946\n",
      "[Epoch:3] cost= 1.7849081754684448\n",
      "[Epoch:4] cost= 1.606821060180664\n",
      "[Epoch:5] cost= 1.366347074508667\n",
      "[Epoch:6] cost= 1.119624376296997\n",
      "[Epoch:7] cost= 0.9016987085342407\n",
      "[Epoch:8] cost= 0.7198505997657776\n",
      "[Epoch:9] cost= 0.5769542455673218\n",
      "[Epoch:10] cost= 0.4613485038280487\n",
      "[Epoch:11] cost= 0.3690990209579468\n",
      "[Epoch:12] cost= 0.2961406707763672\n",
      "[Epoch:13] cost= 0.2387823909521103\n",
      "[Epoch:14] cost= 0.19289307296276093\n",
      "[Epoch:15] cost= 0.15910452604293823\n",
      "[Epoch:16] cost= 0.12970136106014252\n",
      "[Epoch:17] cost= 0.10603946447372437\n",
      "[Epoch:18] cost= 0.08897626399993896\n",
      "[Epoch:19] cost= 0.07349967956542969\n",
      "[Epoch:20] cost= 0.06144481152296066\n",
      "[Epoch:21] cost= 0.052316196262836456\n",
      "[Epoch:22] cost= 0.042852506041526794\n",
      "[Epoch:23] cost= 0.03670830652117729\n",
      "[Epoch:24] cost= 0.031258903443813324\n",
      "[Epoch:25] cost= 0.027218254283070564\n",
      "[Epoch:26] cost= 0.023693304508924484\n",
      "[Epoch:27] cost= 0.019786827266216278\n",
      "[Epoch:28] cost= 0.0174238383769989\n",
      "[Epoch:29] cost= 0.015451759099960327\n",
      "[Epoch:30] cost= 0.013024295680224895\n",
      "[Epoch:31] cost= 0.011729453690350056\n",
      "[Epoch:32] cost= 0.009942113421857357\n",
      "[Epoch:33] cost= 0.00866034347563982\n",
      "[Epoch:34] cost= 0.007633341010659933\n",
      "[Epoch:35] cost= 0.006657380145043135\n",
      "[Epoch:36] cost= 0.005759597290307283\n",
      "[Epoch:37] cost= 0.005210835486650467\n",
      "[Epoch:38] cost= 0.004762518219649792\n",
      "[Epoch:39] cost= 0.004708403721451759\n",
      "[Epoch:40] cost= 0.003597807604819536\n",
      "[Epoch:41] cost= 0.0031206784769892693\n",
      "[Epoch:42] cost= 0.003033928107470274\n",
      "[Epoch:43] cost= 0.0025878658052533865\n",
      "[Epoch:44] cost= 0.0024674637243151665\n",
      "[Epoch:45] cost= 0.0019169930601492524\n",
      "[Epoch:46] cost= 0.0018491094233468175\n",
      "[Epoch:47] cost= 0.0016930215060710907\n",
      "[Epoch:48] cost= 0.0014113944489508867\n",
      "[Epoch:49] cost= 0.0013539078645408154\n",
      "[Epoch:50] cost= 0.00112090352922678\n",
      "learning finist\n"
     ]
    }
   ],
   "source": [
    "epochs = 50\n",
    "for epoch in range(epochs):\n",
    "    avg_cost = 0.0\n",
    "    for num, data in enumerate(data_loader):\n",
    "        imgs, labels = data\n",
    "        imgs = imgs.to(device)\n",
    "        labels = labels.to(device)\n",
    "        optimizer.zero_grad()\n",
    "        out = net(imgs)\n",
    "        loss = loss_func(out, labels)\n",
    "        loss.backward()\n",
    "        optimizer.step()\n",
    "        \n",
    "        avg_cost += loss/ total_batch\n",
    "    \n",
    "    print('[Epoch:{}] cost= {}'.format(epoch+1, avg_cost))\n",
    "    loss_tracker(loss_plt, torch.Tensor([avg_cost]), torch.Tensor([epoch]))\n",
    "\n",
    "print('learning finist')\n"
   ]
  },
  {
   "cell_type": "code",
   "execution_count": 208,
   "metadata": {
    "ExecuteTime": {
     "end_time": "2019-07-13T12:58:05.127211Z",
     "start_time": "2019-07-13T12:58:05.110004Z"
    }
   },
   "outputs": [
    {
     "data": {
      "text/plain": [
       "28"
      ]
     },
     "execution_count": 208,
     "metadata": {},
     "output_type": "execute_result"
    }
   ],
   "source": [
    "len(data[0][0][0])\n"
   ]
  },
  {
   "cell_type": "code",
   "execution_count": 213,
   "metadata": {
    "ExecuteTime": {
     "end_time": "2019-07-13T12:59:22.088454Z",
     "start_time": "2019-07-13T12:59:22.063702Z"
    },
    "collapsed": true
   },
   "outputs": [
    {
     "data": {
      "text/plain": [
       "(tensor([1.0000, 1.0000, 1.0000, 1.0000, 1.0000, 1.0000, 1.0000, 1.0000, 1.0000,\n",
       "         0.9725, 0.9647, 1.0000, 1.0000, 1.0000, 0.9882, 1.0000, 1.0000, 1.0000,\n",
       "         1.0000, 1.0000, 1.0000, 1.0000, 1.0000, 1.0000, 1.0000, 1.0000, 1.0000,\n",
       "         1.0000]),\n",
       " tensor([1.0000, 1.0000, 1.0000, 1.0000, 1.0000, 1.0000, 1.0000, 1.0000, 1.0000,\n",
       "         0.9333, 1.0000, 1.0000, 0.9961, 0.9765, 1.0000, 0.9765, 0.9922, 0.9922,\n",
       "         1.0000, 1.0000, 0.9882, 0.9686, 0.9843, 1.0000, 1.0000, 1.0000, 1.0000,\n",
       "         1.0000]))"
      ]
     },
     "execution_count": 213,
     "metadata": {},
     "output_type": "execute_result"
    }
   ],
   "source": [
    "data[0][0][0][0], data[0][1][0][0]"
   ]
  },
  {
   "cell_type": "code",
   "execution_count": 222,
   "metadata": {
    "ExecuteTime": {
     "end_time": "2019-07-13T13:10:48.566303Z",
     "start_time": "2019-07-13T13:10:48.548712Z"
    }
   },
   "outputs": [
    {
     "data": {
      "text/plain": [
       "420"
      ]
     },
     "execution_count": 222,
     "metadata": {},
     "output_type": "execute_result"
    }
   ],
   "source": [
    "len(label)"
   ]
  },
  {
   "cell_type": "code",
   "execution_count": null,
   "metadata": {},
   "outputs": [],
   "source": []
  },
  {
   "cell_type": "code",
   "execution_count": 279,
   "metadata": {
    "ExecuteTime": {
     "end_time": "2019-07-13T14:29:13.513027Z",
     "start_time": "2019-07-13T14:29:13.504912Z"
    }
   },
   "outputs": [],
   "source": [
    "torch.save(net.state_dict(), './model/model.pth')"
   ]
  },
  {
   "cell_type": "code",
   "execution_count": 280,
   "metadata": {
    "ExecuteTime": {
     "end_time": "2019-07-13T14:29:14.517179Z",
     "start_time": "2019-07-13T14:29:14.509157Z"
    }
   },
   "outputs": [],
   "source": [
    "new_net = CNN().to(device)"
   ]
  },
  {
   "cell_type": "code",
   "execution_count": 281,
   "metadata": {
    "ExecuteTime": {
     "end_time": "2019-07-13T14:29:15.062692Z",
     "start_time": "2019-07-13T14:29:15.050431Z"
    }
   },
   "outputs": [
    {
     "data": {
      "text/plain": [
       "IncompatibleKeys(missing_keys=[], unexpected_keys=[])"
      ]
     },
     "execution_count": 281,
     "metadata": {},
     "output_type": "execute_result"
    }
   ],
   "source": [
    "new_net.load_state_dict(torch.load('./model/model.pth'))"
   ]
  },
  {
   "cell_type": "code",
   "execution_count": 282,
   "metadata": {
    "ExecuteTime": {
     "end_time": "2019-07-13T14:29:16.326722Z",
     "start_time": "2019-07-13T14:29:16.309855Z"
    },
    "collapsed": true
   },
   "outputs": [
    {
     "name": "stdout",
     "output_type": "stream",
     "text": [
      "Conv2d(3, 6, kernel_size=(3, 3), stride=(1, 1), padding=(1, 1))\n",
      "Conv2d(3, 6, kernel_size=(3, 3), stride=(1, 1), padding=(1, 1))\n",
      "tensor([-0.0859,  0.1286,  0.1289], grad_fn=<SelectBackward>)\n",
      "tensor([-0.0859,  0.1286,  0.1289], grad_fn=<SelectBackward>)\n"
     ]
    },
    {
     "data": {
      "text/plain": [
       "tensor([[[1, 1, 1],\n",
       "         [1, 1, 1],\n",
       "         [1, 1, 1]],\n",
       "\n",
       "        [[1, 1, 1],\n",
       "         [1, 1, 1],\n",
       "         [1, 1, 1]],\n",
       "\n",
       "        [[1, 1, 1],\n",
       "         [1, 1, 1],\n",
       "         [1, 1, 1]]], dtype=torch.uint8)"
      ]
     },
     "execution_count": 282,
     "metadata": {},
     "output_type": "execute_result"
    }
   ],
   "source": [
    "print(net.layer1[0])\n",
    "print(new_net.layer1[0])\n",
    "\n",
    "print(net.layer1[0].weight[0][0][0])\n",
    "print(new_net.layer1[0].weight[0][0][0])\n",
    "\n",
    "net.layer1[0].weight[0] == new_net.layer1[0].weight[0]\n"
   ]
  },
  {
   "cell_type": "code",
   "execution_count": 45,
   "metadata": {
    "ExecuteTime": {
     "end_time": "2019-07-16T16:47:34.199110Z",
     "start_time": "2019-07-16T16:47:34.183892Z"
    }
   },
   "outputs": [],
   "source": [
    "trans = torchvision.transforms.Compose([\n",
    "#    transforms.Resize((64,128))\n",
    "    transforms.ToTensor()\n",
    "])\n",
    "\n",
    "test_data = torchvision.datasets.ImageFolder(root=tstimg_fpath,\n",
    "                                            transform=trans)"
   ]
  },
  {
   "cell_type": "code",
   "execution_count": 46,
   "metadata": {
    "ExecuteTime": {
     "end_time": "2019-07-16T16:47:35.010790Z",
     "start_time": "2019-07-16T16:47:35.006872Z"
    }
   },
   "outputs": [],
   "source": [
    "test_set = DataLoader(dataset=test_data, batch_size=len(test_data))"
   ]
  },
  {
   "cell_type": "code",
   "execution_count": 47,
   "metadata": {
    "ExecuteTime": {
     "end_time": "2019-07-16T16:47:36.785267Z",
     "start_time": "2019-07-16T16:47:36.233246Z"
    }
   },
   "outputs": [
    {
     "name": "stdout",
     "output_type": "stream",
     "text": [
      "accuracy: 1.0\n"
     ]
    }
   ],
   "source": [
    "with torch.no_grad():\n",
    "    for num, data in enumerate(test_set):\n",
    "        imgs, label = data\n",
    "        imgs = imgs.to(device)\n",
    "        label = label.to(device)\n",
    "        \n",
    "        prediction = net(imgs)\n",
    "        \n",
    "        correct_prediction = torch.argmax(prediction,1) == label\n",
    "        \n",
    "        accuracy = correct_prediction.float().mean()\n",
    "        print('accuracy:',accuracy.item())"
   ]
  },
  {
   "cell_type": "code",
   "execution_count": 234,
   "metadata": {
    "ExecuteTime": {
     "end_time": "2019-07-13T13:45:31.237520Z",
     "start_time": "2019-07-13T13:45:31.210630Z"
    }
   },
   "outputs": [
    {
     "data": {
      "text/plain": [
       "torch.Size([420, 3, 28, 28])"
      ]
     },
     "execution_count": 234,
     "metadata": {},
     "output_type": "execute_result"
    }
   ],
   "source": [
    "imgs.shape"
   ]
  },
  {
   "cell_type": "code",
   "execution_count": 236,
   "metadata": {
    "ExecuteTime": {
     "end_time": "2019-07-13T13:45:57.557467Z",
     "start_time": "2019-07-13T13:45:57.543323Z"
    }
   },
   "outputs": [
    {
     "data": {
      "text/plain": [
       "torch.Size([420])"
      ]
     },
     "execution_count": 236,
     "metadata": {},
     "output_type": "execute_result"
    }
   ],
   "source": [
    "label.shape"
   ]
  },
  {
   "cell_type": "code",
   "execution_count": null,
   "metadata": {},
   "outputs": [],
   "source": []
  },
  {
   "cell_type": "code",
   "execution_count": null,
   "metadata": {},
   "outputs": [],
   "source": []
  }
 ],
 "metadata": {
  "hide_input": false,
  "kernelspec": {
   "display_name": "Python 3",
   "language": "python",
   "name": "python3"
  },
  "language_info": {
   "codemirror_mode": {
    "name": "ipython",
    "version": 3
   },
   "file_extension": ".py",
   "mimetype": "text/x-python",
   "name": "python",
   "nbconvert_exporter": "python",
   "pygments_lexer": "ipython3",
   "version": "3.7.3"
  },
  "toc": {
   "base_numbering": 1,
   "nav_menu": {},
   "number_sections": true,
   "sideBar": true,
   "skip_h1_title": false,
   "title_cell": "Table of Contents",
   "title_sidebar": "Contents",
   "toc_cell": false,
   "toc_position": {},
   "toc_section_display": true,
   "toc_window_display": false
  },
  "varInspector": {
   "cols": {
    "lenName": 16,
    "lenType": 16,
    "lenVar": 40
   },
   "kernels_config": {
    "python": {
     "delete_cmd_postfix": "",
     "delete_cmd_prefix": "del ",
     "library": "var_list.py",
     "varRefreshCmd": "print(var_dic_list())"
    },
    "r": {
     "delete_cmd_postfix": ") ",
     "delete_cmd_prefix": "rm(",
     "library": "var_list.r",
     "varRefreshCmd": "cat(var_dic_list()) "
    }
   },
   "types_to_exclude": [
    "module",
    "function",
    "builtin_function_or_method",
    "instance",
    "_Feature"
   ],
   "window_display": false
  }
 },
 "nbformat": 4,
 "nbformat_minor": 2
}
