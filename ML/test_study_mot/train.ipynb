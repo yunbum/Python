{
 "cells": [
  {
   "cell_type": "code",
   "execution_count": 82,
   "metadata": {},
   "outputs": [],
   "source": [
    "import os\n",
    "from glob import glob\n",
    "from PIL import Image\n",
    "import numpy as np\n",
    "import matplotlib.pyplot as plt\n",
    "import time"
   ]
  },
  {
   "cell_type": "code",
   "execution_count": 84,
   "metadata": {},
   "outputs": [],
   "source": [
    "paths_training = glob('/Users/ybbaek/PycharmProjects/Datasets/data_img/img_metal_training/*/*/*.jpg')\n",
    "paths_test = glob('/Users/ybbaek/PycharmProjects/Datasets/data_img/img_metal_test/*/*/*.jpg')"
   ]
  },
  {
   "cell_type": "code",
   "execution_count": 85,
   "metadata": {
    "collapsed": true
   },
   "outputs": [
    {
     "data": {
      "text/plain": [
       "('/Users/ybbaek/PycharmProjects/Datasets/data_img/img_metal_training/07_lego/lego_img/1_28x28_lego_123.jpg',\n",
       " '/Users/ybbaek/PycharmProjects/Datasets/data_img/img_metal_test/07_lego/lego_img/1_28x28_lego_321.jpg')"
      ]
     },
     "execution_count": 85,
     "metadata": {},
     "output_type": "execute_result"
    }
   ],
   "source": [
    "paths_training[0] ,paths_test[0]"
   ]
  },
  {
   "cell_type": "code",
   "execution_count": 10,
   "metadata": {},
   "outputs": [
    {
     "data": {
      "text/plain": [
       "(2100, 420)"
      ]
     },
     "execution_count": 10,
     "metadata": {},
     "output_type": "execute_result"
    }
   ],
   "source": [
    "len(paths_training), len(paths_test)"
   ]
  },
  {
   "cell_type": "code",
   "execution_count": 11,
   "metadata": {},
   "outputs": [],
   "source": [
    "def get_label_from_path(path):\n",
    "    str = (path.split('/')[-3])\n",
    "    return int(str.split('_')[0])"
   ]
  },
  {
   "cell_type": "code",
   "execution_count": 13,
   "metadata": {},
   "outputs": [
    {
     "data": {
      "text/plain": [
       "(7, 7)"
      ]
     },
     "execution_count": 13,
     "metadata": {},
     "output_type": "execute_result"
    }
   ],
   "source": [
    "get_label_from_path(paths_training[0]), get_label_from_path(paths_test[0])"
   ]
  },
  {
   "cell_type": "code",
   "execution_count": 15,
   "metadata": {},
   "outputs": [],
   "source": [
    "image = np.array(Image.open(paths_training[0])) "
   ]
  },
  {
   "cell_type": "code",
   "execution_count": 16,
   "metadata": {},
   "outputs": [
    {
     "data": {
      "text/plain": [
       "(28, 28)"
      ]
     },
     "execution_count": 16,
     "metadata": {},
     "output_type": "execute_result"
    }
   ],
   "source": [
    "image.shape"
   ]
  },
  {
   "cell_type": "code",
   "execution_count": 19,
   "metadata": {},
   "outputs": [
    {
     "data": {
      "image/png": "[encoded data removed]",
      "text/plain": [
       "<matplotlib.figure.Figure at 0x112a01438>"
      ]
     },
     "metadata": {},
     "output_type": "display_data"
    }
   ],
   "source": [
    "for i in range(7):\n",
    "    plt.subplot(1,7, i+1)\n",
    "    plt.axis('off')\n",
    "    plt.imshow(np.array(Image.open(paths_training[i*300])))"
   ]
  },
  {
   "cell_type": "code",
   "execution_count": 22,
   "metadata": {},
   "outputs": [
    {
     "data": {
      "image/png": "[encoded data removed]",
      "text/plain": [
       "<matplotlib.figure.Figure at 0x112fabc88>"
      ]
     },
     "metadata": {},
     "output_type": "display_data"
    }
   ],
   "source": [
    "for i in range(7):\n",
    "    plt.subplot(1,7, i+1)\n",
    "    plt.axis('off')\n",
    "    plt.imshow(np.array(Image.open(paths_test[i*60])))"
   ]
  },
  {
   "cell_type": "code",
   "execution_count": 25,
   "metadata": {},
   "outputs": [],
   "source": [
    "def read_image(path):\n",
    "    image = np.array(Image.open(path))\n",
    "    image = np.reshape(image, np.product(image.shape))\n",
    "    return image"
   ]
  },
  {
   "cell_type": "code",
   "execution_count": 27,
   "metadata": {},
   "outputs": [
    {
     "data": {
      "text/plain": [
       "(784,)"
      ]
     },
     "execution_count": 27,
     "metadata": {},
     "output_type": "execute_result"
    }
   ],
   "source": [
    "image = read_image(paths_training[0])\n",
    "image.shape"
   ]
  },
  {
   "cell_type": "code",
   "execution_count": 45,
   "metadata": {},
   "outputs": [],
   "source": [
    "def onehot_encode_label(path):\n",
    "    onehot_label = unique_label_names == get_label_from_path(path)\n",
    "    onehot_label = onehot_label.astype(np.uint8)\n",
    "    return onehot_label"
   ]
  },
  {
   "cell_type": "code",
   "execution_count": 28,
   "metadata": {},
   "outputs": [
    {
     "data": {
      "text/plain": [
       "(784,)"
      ]
     },
     "execution_count": 28,
     "metadata": {},
     "output_type": "execute_result"
    }
   ],
   "source": [
    "image = read_image(paths_test[0])\n",
    "image.shape"
   ]
  },
  {
   "cell_type": "code",
   "execution_count": 37,
   "metadata": {},
   "outputs": [],
   "source": [
    "labels_train = []\n",
    "for path in paths_training:\n",
    "    labels_train.append(get_label_from_path(path))"
   ]
  },
  {
   "cell_type": "code",
   "execution_count": 38,
   "metadata": {},
   "outputs": [],
   "source": [
    "labels_test = []\n",
    "for path in paths_test:\n",
    "    labels_test.append(get_label_from_path(path))"
   ]
  },
  {
   "cell_type": "code",
   "execution_count": 40,
   "metadata": {},
   "outputs": [
    {
     "data": {
      "text/plain": [
       "(2100, 420)"
      ]
     },
     "execution_count": 40,
     "metadata": {},
     "output_type": "execute_result"
    }
   ],
   "source": [
    "len(labels_train), len(labels_test)"
   ]
  },
  {
   "cell_type": "code",
   "execution_count": 43,
   "metadata": {},
   "outputs": [
    {
     "data": {
      "text/plain": [
       "array([1, 2, 3, 4, 5, 6, 7])"
      ]
     },
     "execution_count": 43,
     "metadata": {},
     "output_type": "execute_result"
    }
   ],
   "source": [
    "unique_label_names = np.unique(labels_train)\n",
    "unique_label_names"
   ]
  },
  {
   "cell_type": "code",
   "execution_count": 44,
   "metadata": {},
   "outputs": [
    {
     "data": {
      "text/plain": [
       "array([1, 2, 3, 4, 5, 6, 7])"
      ]
     },
     "execution_count": 44,
     "metadata": {},
     "output_type": "execute_result"
    }
   ],
   "source": [
    "unique_label_names = np.unique(labels_test)\n",
    "unique_label_names"
   ]
  },
  {
   "cell_type": "code",
   "execution_count": 48,
   "metadata": {},
   "outputs": [
    {
     "data": {
      "text/plain": [
       "array([0, 0, 0, 0, 0, 0, 1], dtype=uint8)"
      ]
     },
     "execution_count": 48,
     "metadata": {},
     "output_type": "execute_result"
    }
   ],
   "source": [
    "onehot_encode_label(paths_training[0])"
   ]
  },
  {
   "cell_type": "code",
   "execution_count": 49,
   "metadata": {},
   "outputs": [
    {
     "data": {
      "text/plain": [
       "array([0, 0, 0, 0, 0, 0, 1], dtype=uint8)"
      ]
     },
     "execution_count": 49,
     "metadata": {},
     "output_type": "execute_result"
    }
   ],
   "source": [
    "onehot_encode_label(paths_test[0])"
   ]
  },
  {
   "cell_type": "code",
   "execution_count": 50,
   "metadata": {},
   "outputs": [
    {
     "data": {
      "text/plain": [
       "(784,)"
      ]
     },
     "execution_count": 50,
     "metadata": {},
     "output_type": "execute_result"
    }
   ],
   "source": [
    "read_image(paths_training[0]).shape"
   ]
  },
  {
   "cell_type": "code",
   "execution_count": 51,
   "metadata": {},
   "outputs": [
    {
     "data": {
      "text/plain": [
       "(784,)"
      ]
     },
     "execution_count": 51,
     "metadata": {},
     "output_type": "execute_result"
    }
   ],
   "source": [
    "read_image(paths_test[0]).shape"
   ]
  },
  {
   "cell_type": "code",
   "execution_count": 87,
   "metadata": {},
   "outputs": [],
   "source": [
    "batch_size = 30\n",
    "test_size = 60\n",
    "img_h = 28\n",
    "img_w = 28\n",
    "ch_n = 1\n",
    "num_class = 7\n",
    "num_trainingfiles = len(paths_training) #2100\n",
    "num_testfiles = len(paths_test)\n",
    "\n",
    "Img1D_size = 784\n",
    "\n",
    "TB_SUMMARY_DIR = './log'"
   ]
  },
  {
   "cell_type": "code",
   "execution_count": 53,
   "metadata": {},
   "outputs": [],
   "source": [
    "batch_image = np.zeros((batch_size, Img1D_size))\n",
    "batch_label = np.zeros((batch_size, num_class))"
   ]
  },
  {
   "cell_type": "code",
   "execution_count": 54,
   "metadata": {},
   "outputs": [
    {
     "data": {
      "text/plain": [
       "((30, 784), (30, 7))"
      ]
     },
     "execution_count": 54,
     "metadata": {},
     "output_type": "execute_result"
    }
   ],
   "source": [
    "batch_image.shape, batch_label.shape"
   ]
  },
  {
   "cell_type": "code",
   "execution_count": 55,
   "metadata": {},
   "outputs": [],
   "source": [
    "test_image = np.zeros((test_size, Img1D_size))\n",
    "test_label = np.zeros((test_size, num_class))"
   ]
  },
  {
   "cell_type": "code",
   "execution_count": 56,
   "metadata": {},
   "outputs": [
    {
     "data": {
      "text/plain": [
       "((60, 784), (60, 7))"
      ]
     },
     "execution_count": 56,
     "metadata": {},
     "output_type": "execute_result"
    }
   ],
   "source": [
    "test_image.shape, test_label.shape"
   ]
  },
  {
   "cell_type": "code",
   "execution_count": 57,
   "metadata": {},
   "outputs": [],
   "source": [
    "for n, path in enumerate(paths_training[:batch_size]):\n",
    "    image = read_image(path)\n",
    "    onehot_label = onehot_encode_label(path)\n",
    "    batch_image[n,: ] = image\n",
    "    batch_label[n,: ] = onehot_label"
   ]
  },
  {
   "cell_type": "code",
   "execution_count": 58,
   "metadata": {},
   "outputs": [],
   "source": [
    "for n, path in enumerate(paths_test[:test_size]):\n",
    "    image = read_image(path)\n",
    "    onehot_label = onehot_encode_label(path)\n",
    "    test_image[n,: ] = image\n",
    "    test_label[n,: ] = onehot_label"
   ]
  },
  {
   "cell_type": "code",
   "execution_count": 60,
   "metadata": {},
   "outputs": [
    {
     "data": {
      "text/plain": [
       "((30, 784), (30, 7))"
      ]
     },
     "execution_count": 60,
     "metadata": {},
     "output_type": "execute_result"
    }
   ],
   "source": [
    "batch_image.shape, batch_label.shape"
   ]
  },
  {
   "cell_type": "code",
   "execution_count": 62,
   "metadata": {},
   "outputs": [
    {
     "data": {
      "text/plain": [
       "((60, 784), (60, 7))"
      ]
     },
     "execution_count": 62,
     "metadata": {},
     "output_type": "execute_result"
    }
   ],
   "source": [
    "test_image.shape, test_label.shape"
   ]
  },
  {
   "cell_type": "code",
   "execution_count": 63,
   "metadata": {},
   "outputs": [
    {
     "data": {
      "image/png": "[encoded data removed]",
      "text/plain": [
       "<matplotlib.figure.Figure at 0x1124cbcf8>"
      ]
     },
     "metadata": {},
     "output_type": "display_data"
    }
   ],
   "source": [
    "plt.title(batch_label[0])\n",
    "plt.imshow(np.reshape(batch_image[0],(28,28)))\n",
    "plt.show()"
   ]
  },
  {
   "cell_type": "code",
   "execution_count": 65,
   "metadata": {
    "collapsed": true
   },
   "outputs": [
    {
     "name": "stderr",
     "output_type": "stream",
     "text": [
      "/Users/ybbaek/anaconda3/lib/python3.6/site-packages/h5py/__init__.py:36: FutureWarning: Conversion of the second argument of issubdtype from `float` to `np.floating` is deprecated. In future, it will be treated as `np.float64 == np.dtype(float).type`.\n",
      "  from ._conv import register_converters as _register_converters\n"
     ]
    }
   ],
   "source": [
    "import tensorflow as tf\n",
    "from layers import conv_layer, max_pool_2x2, full_layer"
   ]
  },
  {
   "cell_type": "code",
   "execution_count": 66,
   "metadata": {},
   "outputs": [],
   "source": [
    "x = tf.placeholder(tf.float32, shape=[None, 784])\n",
    "y_= tf.placeholder(tf.float32, shape=[None,  7])"
   ]
  },
  {
   "cell_type": "code",
   "execution_count": 67,
   "metadata": {},
   "outputs": [],
   "source": [
    "x_image = tf.reshape(x, [-1, 28, 28, 1])"
   ]
  },
  {
   "cell_type": "code",
   "execution_count": 68,
   "metadata": {},
   "outputs": [],
   "source": [
    "conv1 = conv_layer(x_image, shape=[5, 5, 1, 32])\n",
    "conv1_pool = max_pool_2x2(conv1)\n",
    "conv2 = conv_layer(conv1_pool, [5, 5, 32, 64])\n",
    "conv2_pool = max_pool_2x2(conv2)\n",
    "conv2_flat = tf.reshape(conv2_pool, [-1, 7*7*64])\n",
    "full_1 = tf.nn.relu(full_layer(conv2_flat, 1024))"
   ]
  },
  {
   "cell_type": "code",
   "execution_count": 69,
   "metadata": {},
   "outputs": [],
   "source": [
    "keep_prob = tf.placeholder(tf.float32)\n",
    "full1_drop = tf.nn.dropout(full_1, keep_prob = keep_prob)"
   ]
  },
  {
   "cell_type": "code",
   "execution_count": 70,
   "metadata": {},
   "outputs": [],
   "source": [
    "y_conv = full_layer(full1_drop, 7)"
   ]
  },
  {
   "cell_type": "code",
   "execution_count": 71,
   "metadata": {
    "collapsed": true
   },
   "outputs": [
    {
     "name": "stdout",
     "output_type": "stream",
     "text": [
      "WARNING:tensorflow:From <ipython-input-71-c2e9cdde4495>:2: softmax_cross_entropy_with_logits (from tensorflow.python.ops.nn_ops) is deprecated and will be removed in a future version.\n",
      "Instructions for updating:\n",
      "\n",
      "Future major versions of TensorFlow will allow gradients to flow\n",
      "into the labels input on backprop by default.\n",
      "\n",
      "See tf.nn.softmax_cross_entropy_with_logits_v2.\n",
      "\n"
     ]
    }
   ],
   "source": [
    "cross_entropy = tf.reduce_mean(tf.nn.softmax_cross_entropy_with_logits(\n",
    "    logits=y_conv, labels=y_))"
   ]
  },
  {
   "cell_type": "code",
   "execution_count": 72,
   "metadata": {},
   "outputs": [],
   "source": [
    "train_step = tf.train.AdamOptimizer(1e-4).minimize(cross_entropy)"
   ]
  },
  {
   "cell_type": "code",
   "execution_count": 73,
   "metadata": {},
   "outputs": [],
   "source": [
    "correct_prediction = tf.equal(tf.argmax(y_conv, 1), tf.argmax(y_,1))"
   ]
  },
  {
   "cell_type": "code",
   "execution_count": 74,
   "metadata": {},
   "outputs": [],
   "source": [
    "accuracy = tf.reduce_mean(tf.cast(correct_prediction, tf.float32))"
   ]
  },
  {
   "cell_type": "code",
   "execution_count": 91,
   "metadata": {},
   "outputs": [],
   "source": [
    "STEPS = 15\n",
    "global_step =0"
   ]
  },
  {
   "cell_type": "code",
   "execution_count": 93,
   "metadata": {
    "scrolled": false
   },
   "outputs": [
    {
     "name": "stdout",
     "output_type": "stream",
     "text": [
      "step    0, training accuracy = 0.000\n",
      "step    0, training accuracy = 0.000\n",
      "step    0, training accuracy = 0.000\n",
      "step    0, training accuracy = 0.000\n",
      "step    0, training accuracy = 0.000\n",
      "step    0, training accuracy = 0.000\n",
      "step    0, training accuracy = 0.000\n",
      "step    1, training accuracy = 0.000\n",
      "step    1, training accuracy = 0.000\n",
      "step    1, training accuracy = 0.000\n",
      "step    1, training accuracy = 0.000\n",
      "step    1, training accuracy = 0.000\n",
      "step    1, training accuracy = 0.000\n",
      "step    1, training accuracy = 0.000\n",
      "step    2, training accuracy = 0.000\n",
      "step    2, training accuracy = 0.000\n",
      "step    2, training accuracy = 0.000\n",
      "step    2, training accuracy = 0.000\n",
      "step    2, training accuracy = 0.000\n",
      "step    2, training accuracy = 0.000\n",
      "step    2, training accuracy = 0.000\n",
      "step    3, training accuracy = 0.000\n",
      "step    3, training accuracy = 0.000\n",
      "step    3, training accuracy = 0.000\n",
      "step    3, training accuracy = 0.000\n",
      "step    3, training accuracy = 0.000\n",
      "step    3, training accuracy = 0.000\n",
      "step    3, training accuracy = 0.000\n",
      "step    4, training accuracy = 0.000\n",
      "step    4, training accuracy = 0.000\n",
      "step    4, training accuracy = 0.100\n",
      "step    4, training accuracy = 0.000\n",
      "step    4, training accuracy = 0.000\n",
      "step    4, training accuracy = 0.000\n",
      "step    4, training accuracy = 0.000\n",
      "step    5, training accuracy = 0.000\n",
      "step    5, training accuracy = 0.033\n",
      "step    5, training accuracy = 0.800\n",
      "step    5, training accuracy = 0.000\n",
      "step    5, training accuracy = 0.000\n",
      "step    5, training accuracy = 0.033\n",
      "step    5, training accuracy = 0.067\n",
      "step    6, training accuracy = 0.000\n",
      "step    6, training accuracy = 0.467\n",
      "step    6, training accuracy = 0.533\n",
      "step    6, training accuracy = 0.000\n",
      "step    6, training accuracy = 0.000\n",
      "step    6, training accuracy = 0.300\n",
      "step    6, training accuracy = 0.200\n",
      "step    7, training accuracy = 0.000\n",
      "step    7, training accuracy = 0.267\n",
      "step    7, training accuracy = 0.767\n",
      "step    7, training accuracy = 0.000\n",
      "step    7, training accuracy = 0.033\n",
      "step    7, training accuracy = 0.467\n",
      "step    7, training accuracy = 0.600\n",
      "step    8, training accuracy = 0.000\n",
      "step    8, training accuracy = 0.167\n",
      "step    8, training accuracy = 0.300\n",
      "step    8, training accuracy = 0.067\n",
      "step    8, training accuracy = 0.033\n",
      "step    8, training accuracy = 0.400\n",
      "step    8, training accuracy = 0.900\n",
      "step    9, training accuracy = 0.133\n",
      "step    9, training accuracy = 0.167\n",
      "step    9, training accuracy = 0.600\n",
      "step    9, training accuracy = 0.333\n",
      "step    9, training accuracy = 0.267\n",
      "step    9, training accuracy = 0.833\n",
      "step    9, training accuracy = 1.000\n",
      "step   10, training accuracy = 0.767\n",
      "step   10, training accuracy = 0.300\n",
      "step   10, training accuracy = 1.000\n",
      "step   10, training accuracy = 0.500\n",
      "step   10, training accuracy = 0.600\n",
      "step   10, training accuracy = 0.867\n",
      "step   10, training accuracy = 1.000\n",
      "step   11, training accuracy = 1.000\n",
      "step   11, training accuracy = 0.633\n",
      "step   11, training accuracy = 0.967\n",
      "step   11, training accuracy = 0.900\n",
      "step   11, training accuracy = 0.900\n",
      "step   11, training accuracy = 0.967\n",
      "step   11, training accuracy = 1.000\n",
      "step   12, training accuracy = 1.000\n",
      "step   12, training accuracy = 0.633\n",
      "step   12, training accuracy = 1.000\n",
      "step   12, training accuracy = 0.933\n",
      "step   12, training accuracy = 0.900\n",
      "step   12, training accuracy = 0.967\n",
      "step   12, training accuracy = 1.000\n",
      "step   13, training accuracy = 1.000\n",
      "step   13, training accuracy = 0.933\n",
      "step   13, training accuracy = 1.000\n",
      "step   13, training accuracy = 1.000\n",
      "step   13, training accuracy = 0.900\n",
      "step   13, training accuracy = 1.000\n",
      "step   13, training accuracy = 1.000\n",
      "step   14, training accuracy = 1.000\n",
      "step   14, training accuracy = 1.000\n",
      "step   14, training accuracy = 1.000\n",
      "step   14, training accuracy = 0.967\n",
      "step   14, training accuracy = 0.900\n",
      "step   14, training accuracy = 1.000\n",
      "step   14, training accuracy = 1.000\n",
      "1.0\n",
      "0.81666666\n",
      "0.98333335\n",
      "0.65\n",
      "0.75\n",
      "0.78333336\n",
      "0.98333335\n"
     ]
    }
   ],
   "source": [
    "with tf.Session() as sess:\n",
    "    sess.run(tf.global_variables_initializer())\n",
    "    \n",
    "    #전체 epoch\n",
    "    for i in range(STEPS): \n",
    "        start_t = time.clock()\n",
    "        # 배치세트\n",
    "        for j in range(num_trainingfiles // batch_size):\n",
    "            #미니배치 생성\n",
    "            for n, path in enumerate(paths_training[batch_size*j:batch_size*(j+1)]):\n",
    "                image = read_image(path)\n",
    "                onehot_label = onehot_encode_label(path)\n",
    "                batch_image[n,: ] = image\n",
    "                batch_label[n,: ] = onehot_label\n",
    "                #print(batch_image.shape, batch_label.shape)\n",
    "                #print(path,onehot_label)\n",
    "                \n",
    "            sess.run(train_step, feed_dict={x: batch_image, y_: batch_label, keep_prob: 0.5})\n",
    "            #print(batch_label[0], image[0])\n",
    "            #plt.imshow(np.reshape(batch_image[0],(28,28)))\n",
    "            #plt.show()\n",
    "            \n",
    "            if j % 10 ==0:\n",
    "                train_accuracy = sess.run(accuracy, feed_dict={x: batch_image, y_:batch_label, keep_prob: 1.0})\n",
    "                print(\"step {:4d}, training accuracy = {:.3f}\".format(i, train_accuracy))\n",
    "        \n",
    "        #sess.run(train_step, feed_dict={x: batch_image, y_: batch_label, keep_prob: 0.5})\n",
    "        global_step +=1\n",
    "        \n",
    "        end_t = time.clock()\n",
    "        \n",
    "    for k in range(num_testfiles // test_size):\n",
    "        for n, path in enumerate(paths_test[test_size*k:test_size*(k+1)]):\n",
    "            image = read_image(path)\n",
    "            onehot_label = onehot_encode_label(path)\n",
    "            test_image[n, :] = image\n",
    "            test_label[n, :] = onehot_label\n",
    "        \n",
    "        X = test_image\n",
    "        Y = test_label\n",
    "        \n",
    "        test_accuracy = sess.run(accuracy, feed_dict={x: X, y_: Y, keep_prob: 1.0})\n",
    "        print(test_accuracy)\n"
   ]
  },
  {
   "cell_type": "code",
   "execution_count": 59,
   "metadata": {},
   "outputs": [
    {
     "data": {
      "text/plain": [
       "1.0"
      ]
     },
     "execution_count": 59,
     "metadata": {},
     "output_type": "execute_result"
    }
   ],
   "source": [
    "test_accuracy"
   ]
  },
  {
   "cell_type": "code",
   "execution_count": null,
   "metadata": {},
   "outputs": [],
   "source": []
  }
 ],
 "metadata": {
  "kernelspec": {
   "display_name": "Python 3",
   "language": "python",
   "name": "python3"
  }
 },
 "nbformat": 4,
 "nbformat_minor": 2
}
