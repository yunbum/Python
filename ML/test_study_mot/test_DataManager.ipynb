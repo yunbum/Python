{
 "cells": [
  {
   "cell_type": "code",
   "execution_count": 1,
   "metadata": {},
   "outputs": [],
   "source": [
    "import os\n",
    "from glob import glob\n",
    "from PIL import Image\n",
    "import numpy as np\n",
    "import matplotlib.pyplot as plt"
   ]
  },
  {
   "cell_type": "code",
   "execution_count": 3,
   "metadata": {
    "collapsed": true
   },
   "outputs": [
    {
     "data": {
      "text/plain": [
       "['.DS_Store',\n",
       " 'data_img',\n",
       " '.gitattributes',\n",
       " 'train',\n",
       " 'mnist_png',\n",
       " 'trainLabels.csv',\n",
       " '.git']"
      ]
     },
     "execution_count": 3,
     "metadata": {},
     "output_type": "execute_result"
    }
   ],
   "source": [
    "os.listdir('/Users/ybbaek/PycharmProjects/Datasets')"
   ]
  },
  {
   "cell_type": "code",
   "execution_count": 4,
   "metadata": {},
   "outputs": [],
   "source": [
    "path_list = glob('//Users/ybbaek/PycharmProjects/Datasets/mnist_png/testing/*/*.png')"
   ]
  },
  {
   "cell_type": "code",
   "execution_count": 6,
   "metadata": {},
   "outputs": [
    {
     "name": "stdout",
     "output_type": "stream",
     "text": [
      "//Users/ybbaek/PycharmProjects/Datasets/mnist_png/testing/9/4968.png\n"
     ]
    }
   ],
   "source": [
    "print(path_list[0])"
   ]
  },
  {
   "cell_type": "code",
   "execution_count": 7,
   "metadata": {},
   "outputs": [],
   "source": [
    "def get_label_from_path(path):\n",
    "    return int(path.split('/')[-2])"
   ]
  },
  {
   "cell_type": "code",
   "execution_count": 8,
   "metadata": {},
   "outputs": [
    {
     "data": {
      "text/plain": [
       "('//Users/ybbaek/PycharmProjects/Datasets/mnist_png/testing/9/4968.png', 9)"
      ]
     },
     "execution_count": 8,
     "metadata": {},
     "output_type": "execute_result"
    }
   ],
   "source": [
    "path_list[0], get_label_from_path(path_list[0])"
   ]
  },
  {
   "cell_type": "markdown",
   "metadata": {},
   "source": [
    "# 이미지 불러오기\n",
    "1.\n",
    "2."
   ]
  },
  {
   "cell_type": "code",
   "execution_count": 9,
   "metadata": {},
   "outputs": [],
   "source": [
    "image = np.array(Image.open(path_list[0]))"
   ]
  },
  {
   "cell_type": "code",
   "execution_count": 11,
   "metadata": {},
   "outputs": [],
   "source": [
    "def read_image(path):\n",
    "    image = np.array(Image.open(path_list[0]))\n",
    "    return image.reshape(image.shape[0], image.shape[1],1)"
   ]
  },
  {
   "cell_type": "code",
   "execution_count": 13,
   "metadata": {},
   "outputs": [],
   "source": [
    "class_name = get_label_from_path(path_list[0])"
   ]
  },
  {
   "cell_type": "code",
   "execution_count": 14,
   "metadata": {},
   "outputs": [],
   "source": [
    "label_name_list = []\n",
    "for path in path_list:\n",
    "    label_name_list.append(get_label_from_path(path))"
   ]
  },
  {
   "cell_type": "code",
   "execution_count": 15,
   "metadata": {},
   "outputs": [
    {
     "name": "stdout",
     "output_type": "stream",
     "text": [
      "[0 1 2 3 4 5 6 7 8 9]\n"
     ]
    }
   ],
   "source": [
    "unique_label_names = np.unique(label_name_list)\n",
    "print(unique_label_names)"
   ]
  },
  {
   "cell_type": "code",
   "execution_count": 25,
   "metadata": {},
   "outputs": [],
   "source": [
    "def onehot_encode_label(path):\n",
    "    onehot_label = unique_label_names == get_label_from_path(path)\n",
    "    onehot_label = onehot_label.astype(np.uint8)\n",
    "    return onehot_label"
   ]
  },
  {
   "cell_type": "code",
   "execution_count": 26,
   "metadata": {},
   "outputs": [
    {
     "data": {
      "text/plain": [
       "array([0, 0, 0, 0, 0, 1, 0, 0, 0, 0], dtype=uint8)"
      ]
     },
     "execution_count": 26,
     "metadata": {},
     "output_type": "execute_result"
    }
   ],
   "source": [
    "onehot_encode_label(path)"
   ]
  },
  {
   "cell_type": "code",
   "execution_count": 28,
   "metadata": {},
   "outputs": [
    {
     "data": {
      "text/plain": [
       "((28, 28, 1), array([0, 0, 0, 0, 0, 1, 0, 0, 0, 0], dtype=uint8))"
      ]
     },
     "execution_count": 28,
     "metadata": {},
     "output_type": "execute_result"
    }
   ],
   "source": [
    "read_image(path).shape, onehot_encode_label(path)"
   ]
  },
  {
   "cell_type": "code",
   "execution_count": 29,
   "metadata": {},
   "outputs": [],
   "source": [
    "batch_size = 64\n",
    "data_height = 28\n",
    "data_width = 28\n",
    "channel_n = 1\n",
    "\n",
    "num_classes = 10"
   ]
  },
  {
   "cell_type": "code",
   "execution_count": 32,
   "metadata": {},
   "outputs": [],
   "source": [
    "batch_image = np.zeros((batch_size, data_height, data_width, channel_n))\n",
    "batch_label = np.zeros((batch_size, num_classes))"
   ]
  },
  {
   "cell_type": "code",
   "execution_count": 34,
   "metadata": {},
   "outputs": [
    {
     "data": {
      "text/plain": [
       "((64, 28, 28, 1), (64, 10))"
      ]
     },
     "execution_count": 34,
     "metadata": {},
     "output_type": "execute_result"
    }
   ],
   "source": [
    "batch_image.shape, batch_label.shape"
   ]
  },
  {
   "cell_type": "code",
   "execution_count": 145,
   "metadata": {
    "collapsed": true
   },
   "outputs": [
    {
     "name": "stdout",
     "output_type": "stream",
     "text": [
      "//Users/ybbaek/PycharmProjects/Datasets/mnist_png/testing/9/4968.png\n",
      "//Users/ybbaek/PycharmProjects/Datasets/mnist_png/testing/9/3791.png\n",
      "//Users/ybbaek/PycharmProjects/Datasets/mnist_png/testing/9/1192.png\n",
      "//Users/ybbaek/PycharmProjects/Datasets/mnist_png/testing/9/3008.png\n",
      "//Users/ybbaek/PycharmProjects/Datasets/mnist_png/testing/9/4015.png\n",
      "//Users/ybbaek/PycharmProjects/Datasets/mnist_png/testing/9/3034.png\n",
      "//Users/ybbaek/PycharmProjects/Datasets/mnist_png/testing/9/7246.png\n",
      "//Users/ybbaek/PycharmProjects/Datasets/mnist_png/testing/9/3587.png\n",
      "//Users/ybbaek/PycharmProjects/Datasets/mnist_png/testing/9/9733.png\n",
      "//Users/ybbaek/PycharmProjects/Datasets/mnist_png/testing/9/7736.png\n",
      "//Users/ybbaek/PycharmProjects/Datasets/mnist_png/testing/9/5135.png\n",
      "//Users/ybbaek/PycharmProjects/Datasets/mnist_png/testing/9/1435.png\n",
      "//Users/ybbaek/PycharmProjects/Datasets/mnist_png/testing/9/9069.png\n",
      "//Users/ybbaek/PycharmProjects/Datasets/mnist_png/testing/9/7044.png\n",
      "//Users/ybbaek/PycharmProjects/Datasets/mnist_png/testing/9/758.png\n",
      "//Users/ybbaek/PycharmProjects/Datasets/mnist_png/testing/9/1596.png\n",
      "//Users/ybbaek/PycharmProjects/Datasets/mnist_png/testing/9/7118.png\n",
      "//Users/ybbaek/PycharmProjects/Datasets/mnist_png/testing/9/6560.png\n",
      "//Users/ybbaek/PycharmProjects/Datasets/mnist_png/testing/9/4363.png\n",
      "//Users/ybbaek/PycharmProjects/Datasets/mnist_png/testing/9/4405.png\n",
      "//Users/ybbaek/PycharmProjects/Datasets/mnist_png/testing/9/1964.png\n",
      "//Users/ybbaek/PycharmProjects/Datasets/mnist_png/testing/9/214.png\n",
      "//Users/ybbaek/PycharmProjects/Datasets/mnist_png/testing/9/599.png\n",
      "//Users/ybbaek/PycharmProjects/Datasets/mnist_png/testing/9/3168.png\n",
      "//Users/ybbaek/PycharmProjects/Datasets/mnist_png/testing/9/2538.png\n",
      "//Users/ybbaek/PycharmProjects/Datasets/mnist_png/testing/9/1743.png\n",
      "//Users/ybbaek/PycharmProjects/Datasets/mnist_png/testing/9/8001.png\n",
      "//Users/ybbaek/PycharmProjects/Datasets/mnist_png/testing/9/5242.png\n",
      "//Users/ybbaek/PycharmProjects/Datasets/mnist_png/testing/9/6039.png\n",
      "//Users/ybbaek/PycharmProjects/Datasets/mnist_png/testing/9/4174.png\n",
      "//Users/ybbaek/PycharmProjects/Datasets/mnist_png/testing/9/598.png\n",
      "//Users/ybbaek/PycharmProjects/Datasets/mnist_png/testing/9/8028.png\n",
      "//Users/ybbaek/PycharmProjects/Datasets/mnist_png/testing/9/2263.png\n",
      "//Users/ybbaek/PycharmProjects/Datasets/mnist_png/testing/9/1781.png\n",
      "//Users/ybbaek/PycharmProjects/Datasets/mnist_png/testing/9/7496.png\n",
      "//Users/ybbaek/PycharmProjects/Datasets/mnist_png/testing/9/4835.png\n",
      "//Users/ybbaek/PycharmProjects/Datasets/mnist_png/testing/9/8955.png\n",
      "//Users/ybbaek/PycharmProjects/Datasets/mnist_png/testing/9/2049.png\n",
      "//Users/ybbaek/PycharmProjects/Datasets/mnist_png/testing/9/1554.png\n",
      "//Users/ybbaek/PycharmProjects/Datasets/mnist_png/testing/9/1232.png\n",
      "//Users/ybbaek/PycharmProjects/Datasets/mnist_png/testing/9/4410.png\n",
      "//Users/ybbaek/PycharmProjects/Datasets/mnist_png/testing/9/2934.png\n",
      "//Users/ybbaek/PycharmProjects/Datasets/mnist_png/testing/9/3394.png\n",
      "//Users/ybbaek/PycharmProjects/Datasets/mnist_png/testing/9/1597.png\n",
      "//Users/ybbaek/PycharmProjects/Datasets/mnist_png/testing/9/7680.png\n",
      "//Users/ybbaek/PycharmProjects/Datasets/mnist_png/testing/9/2908.png\n",
      "//Users/ybbaek/PycharmProjects/Datasets/mnist_png/testing/9/7864.png\n",
      "//Users/ybbaek/PycharmProjects/Datasets/mnist_png/testing/9/759.png\n",
      "//Users/ybbaek/PycharmProjects/Datasets/mnist_png/testing/9/2883.png\n",
      "//Users/ybbaek/PycharmProjects/Datasets/mnist_png/testing/9/2129.png\n",
      "//Users/ybbaek/PycharmProjects/Datasets/mnist_png/testing/9/8404.png\n",
      "//Users/ybbaek/PycharmProjects/Datasets/mnist_png/testing/9/6401.png\n",
      "//Users/ybbaek/PycharmProjects/Datasets/mnist_png/testing/9/62.png\n",
      "//Users/ybbaek/PycharmProjects/Datasets/mnist_png/testing/9/9054.png\n",
      "//Users/ybbaek/PycharmProjects/Datasets/mnist_png/testing/9/4570.png\n",
      "//Users/ybbaek/PycharmProjects/Datasets/mnist_png/testing/9/2673.png\n",
      "//Users/ybbaek/PycharmProjects/Datasets/mnist_png/testing/9/9901.png\n",
      "//Users/ybbaek/PycharmProjects/Datasets/mnist_png/testing/9/1385.png\n",
      "//Users/ybbaek/PycharmProjects/Datasets/mnist_png/testing/9/3592.png\n",
      "//Users/ybbaek/PycharmProjects/Datasets/mnist_png/testing/9/2854.png\n",
      "//Users/ybbaek/PycharmProjects/Datasets/mnist_png/testing/9/639.png\n",
      "//Users/ybbaek/PycharmProjects/Datasets/mnist_png/testing/9/7535.png\n",
      "//Users/ybbaek/PycharmProjects/Datasets/mnist_png/testing/9/1622.png\n",
      "//Users/ybbaek/PycharmProjects/Datasets/mnist_png/testing/9/9530.png\n"
     ]
    }
   ],
   "source": [
    "for n, path in enumerate(path_list[:batch_size]):\n",
    "    image = read_image(path)\n",
    "    onehot_label = onehot_encode_label(path)\n",
    "    batch_image[n,:, :, :] = image\n",
    "    batch_label[n,: ] = onehot_label"
   ]
  },
  {
   "cell_type": "code",
   "execution_count": 37,
   "metadata": {
    "collapsed": true
   },
   "outputs": [
    {
     "data": {
      "text/plain": [
       "array([[[[0.],\n",
       "         [0.],\n",
       "         [0.],\n",
       "         ...,\n",
       "         [0.],\n",
       "         [0.],\n",
       "         [0.]],\n",
       "\n",
       "        [[0.],\n",
       "         [0.],\n",
       "         [0.],\n",
       "         ...,\n",
       "         [0.],\n",
       "         [0.],\n",
       "         [0.]],\n",
       "\n",
       "        [[0.],\n",
       "         [0.],\n",
       "         [0.],\n",
       "         ...,\n",
       "         [0.],\n",
       "         [0.],\n",
       "         [0.]],\n",
       "\n",
       "        ...,\n",
       "\n",
       "        [[0.],\n",
       "         [0.],\n",
       "         [0.],\n",
       "         ...,\n",
       "         [0.],\n",
       "         [0.],\n",
       "         [0.]],\n",
       "\n",
       "        [[0.],\n",
       "         [0.],\n",
       "         [0.],\n",
       "         ...,\n",
       "         [0.],\n",
       "         [0.],\n",
       "         [0.]],\n",
       "\n",
       "        [[0.],\n",
       "         [0.],\n",
       "         [0.],\n",
       "         ...,\n",
       "         [0.],\n",
       "         [0.],\n",
       "         [0.]]],\n",
       "\n",
       "\n",
       "       [[[0.],\n",
       "         [0.],\n",
       "         [0.],\n",
       "         ...,\n",
       "         [0.],\n",
       "         [0.],\n",
       "         [0.]],\n",
       "\n",
       "        [[0.],\n",
       "         [0.],\n",
       "         [0.],\n",
       "         ...,\n",
       "         [0.],\n",
       "         [0.],\n",
       "         [0.]],\n",
       "\n",
       "        [[0.],\n",
       "         [0.],\n",
       "         [0.],\n",
       "         ...,\n",
       "         [0.],\n",
       "         [0.],\n",
       "         [0.]],\n",
       "\n",
       "        ...,\n",
       "\n",
       "        [[0.],\n",
       "         [0.],\n",
       "         [0.],\n",
       "         ...,\n",
       "         [0.],\n",
       "         [0.],\n",
       "         [0.]],\n",
       "\n",
       "        [[0.],\n",
       "         [0.],\n",
       "         [0.],\n",
       "         ...,\n",
       "         [0.],\n",
       "         [0.],\n",
       "         [0.]],\n",
       "\n",
       "        [[0.],\n",
       "         [0.],\n",
       "         [0.],\n",
       "         ...,\n",
       "         [0.],\n",
       "         [0.],\n",
       "         [0.]]],\n",
       "\n",
       "\n",
       "       [[[0.],\n",
       "         [0.],\n",
       "         [0.],\n",
       "         ...,\n",
       "         [0.],\n",
       "         [0.],\n",
       "         [0.]],\n",
       "\n",
       "        [[0.],\n",
       "         [0.],\n",
       "         [0.],\n",
       "         ...,\n",
       "         [0.],\n",
       "         [0.],\n",
       "         [0.]],\n",
       "\n",
       "        [[0.],\n",
       "         [0.],\n",
       "         [0.],\n",
       "         ...,\n",
       "         [0.],\n",
       "         [0.],\n",
       "         [0.]],\n",
       "\n",
       "        ...,\n",
       "\n",
       "        [[0.],\n",
       "         [0.],\n",
       "         [0.],\n",
       "         ...,\n",
       "         [0.],\n",
       "         [0.],\n",
       "         [0.]],\n",
       "\n",
       "        [[0.],\n",
       "         [0.],\n",
       "         [0.],\n",
       "         ...,\n",
       "         [0.],\n",
       "         [0.],\n",
       "         [0.]],\n",
       "\n",
       "        [[0.],\n",
       "         [0.],\n",
       "         [0.],\n",
       "         ...,\n",
       "         [0.],\n",
       "         [0.],\n",
       "         [0.]]],\n",
       "\n",
       "\n",
       "       ...,\n",
       "\n",
       "\n",
       "       [[[0.],\n",
       "         [0.],\n",
       "         [0.],\n",
       "         ...,\n",
       "         [0.],\n",
       "         [0.],\n",
       "         [0.]],\n",
       "\n",
       "        [[0.],\n",
       "         [0.],\n",
       "         [0.],\n",
       "         ...,\n",
       "         [0.],\n",
       "         [0.],\n",
       "         [0.]],\n",
       "\n",
       "        [[0.],\n",
       "         [0.],\n",
       "         [0.],\n",
       "         ...,\n",
       "         [0.],\n",
       "         [0.],\n",
       "         [0.]],\n",
       "\n",
       "        ...,\n",
       "\n",
       "        [[0.],\n",
       "         [0.],\n",
       "         [0.],\n",
       "         ...,\n",
       "         [0.],\n",
       "         [0.],\n",
       "         [0.]],\n",
       "\n",
       "        [[0.],\n",
       "         [0.],\n",
       "         [0.],\n",
       "         ...,\n",
       "         [0.],\n",
       "         [0.],\n",
       "         [0.]],\n",
       "\n",
       "        [[0.],\n",
       "         [0.],\n",
       "         [0.],\n",
       "         ...,\n",
       "         [0.],\n",
       "         [0.],\n",
       "         [0.]]],\n",
       "\n",
       "\n",
       "       [[[0.],\n",
       "         [0.],\n",
       "         [0.],\n",
       "         ...,\n",
       "         [0.],\n",
       "         [0.],\n",
       "         [0.]],\n",
       "\n",
       "        [[0.],\n",
       "         [0.],\n",
       "         [0.],\n",
       "         ...,\n",
       "         [0.],\n",
       "         [0.],\n",
       "         [0.]],\n",
       "\n",
       "        [[0.],\n",
       "         [0.],\n",
       "         [0.],\n",
       "         ...,\n",
       "         [0.],\n",
       "         [0.],\n",
       "         [0.]],\n",
       "\n",
       "        ...,\n",
       "\n",
       "        [[0.],\n",
       "         [0.],\n",
       "         [0.],\n",
       "         ...,\n",
       "         [0.],\n",
       "         [0.],\n",
       "         [0.]],\n",
       "\n",
       "        [[0.],\n",
       "         [0.],\n",
       "         [0.],\n",
       "         ...,\n",
       "         [0.],\n",
       "         [0.],\n",
       "         [0.]],\n",
       "\n",
       "        [[0.],\n",
       "         [0.],\n",
       "         [0.],\n",
       "         ...,\n",
       "         [0.],\n",
       "         [0.],\n",
       "         [0.]]],\n",
       "\n",
       "\n",
       "       [[[0.],\n",
       "         [0.],\n",
       "         [0.],\n",
       "         ...,\n",
       "         [0.],\n",
       "         [0.],\n",
       "         [0.]],\n",
       "\n",
       "        [[0.],\n",
       "         [0.],\n",
       "         [0.],\n",
       "         ...,\n",
       "         [0.],\n",
       "         [0.],\n",
       "         [0.]],\n",
       "\n",
       "        [[0.],\n",
       "         [0.],\n",
       "         [0.],\n",
       "         ...,\n",
       "         [0.],\n",
       "         [0.],\n",
       "         [0.]],\n",
       "\n",
       "        ...,\n",
       "\n",
       "        [[0.],\n",
       "         [0.],\n",
       "         [0.],\n",
       "         ...,\n",
       "         [0.],\n",
       "         [0.],\n",
       "         [0.]],\n",
       "\n",
       "        [[0.],\n",
       "         [0.],\n",
       "         [0.],\n",
       "         ...,\n",
       "         [0.],\n",
       "         [0.],\n",
       "         [0.]],\n",
       "\n",
       "        [[0.],\n",
       "         [0.],\n",
       "         [0.],\n",
       "         ...,\n",
       "         [0.],\n",
       "         [0.],\n",
       "         [0.]]]])"
      ]
     },
     "execution_count": 37,
     "metadata": {},
     "output_type": "execute_result"
    }
   ],
   "source": [
    "batch_image"
   ]
  },
  {
   "cell_type": "code",
   "execution_count": 38,
   "metadata": {},
   "outputs": [],
   "source": [
    "for n, path in enumerate(path_list[:batch_size]):\n",
    "    image = read_image(path)\n",
    "    onehot_label = onehot_encode_label(path)\n",
    "    batch_image[n,:,:,:] = image\n",
    "    batch_label[n,:] = onehot_label"
   ]
  },
  {
   "cell_type": "code",
   "execution_count": 39,
   "metadata": {},
   "outputs": [
    {
     "data": {
      "text/plain": [
       "((64, 28, 28, 1), (64, 10))"
      ]
     },
     "execution_count": 39,
     "metadata": {},
     "output_type": "execute_result"
    }
   ],
   "source": [
    "batch_image.shape, batch_label.shape"
   ]
  },
  {
   "cell_type": "code",
   "execution_count": 41,
   "metadata": {},
   "outputs": [
    {
     "data": {
      "image/png": "[encoded data removed]",
      "text/plain": [
       "<matplotlib.figure.Figure at 0x1088be5c0>"
      ]
     },
     "metadata": {},
     "output_type": "display_data"
    }
   ],
   "source": [
    "plt.title(batch_label[0])\n",
    "plt.imshow(batch_image[0,:,:,0])\n",
    "plt.show()"
   ]
  },
  {
   "cell_type": "markdown",
   "metadata": {},
   "source": [
    "# Generate Batch data\n",
    "1.\n",
    "2."
   ]
  },
  {
   "cell_type": "code",
   "execution_count": 42,
   "metadata": {},
   "outputs": [],
   "source": [
    "batch_per_epoch = batch_size // len(path_list)"
   ]
  },
  {
   "cell_type": "markdown",
   "metadata": {},
   "source": [
    "# Generate batch data with tf.data"
   ]
  },
  {
   "cell_type": "code",
   "execution_count": 114,
   "metadata": {},
   "outputs": [],
   "source": [
    "import tensorflow as tf"
   ]
  },
  {
   "cell_type": "code",
   "execution_count": 131,
   "metadata": {},
   "outputs": [],
   "source": [
    "def _read_py_function(path, label):\n",
    "    image = read_image(path)\n",
    "    label = np.array(label, dtype=np.uint8)\n",
    "    return image.astype(np.int32), label\n",
    "\n",
    "def _resize_function(image_decoded, label):\n",
    "    image_decoded.set_shape([None, None, None])\n",
    "    image_resized = tf.image.resize_images(image_decoded, [28,28])\n",
    "    return image_resized, label"
   ]
  },
  {
   "cell_type": "code",
   "execution_count": 132,
   "metadata": {},
   "outputs": [],
   "source": [
    "label_list = [onehot_encode_label(path).tolist() for path in path_list]"
   ]
  },
  {
   "cell_type": "code",
   "execution_count": 133,
   "metadata": {},
   "outputs": [
    {
     "data": {
      "text/plain": [
       "('//Users/ybbaek/PycharmProjects/Datasets/mnist_png/testing/9/4968.png',\n",
       " [0, 0, 0, 0, 0, 0, 0, 0, 0, 1])"
      ]
     },
     "execution_count": 133,
     "metadata": {},
     "output_type": "execute_result"
    }
   ],
   "source": [
    "path_list[0], label_list[0]"
   ]
  },
  {
   "cell_type": "code",
   "execution_count": 134,
   "metadata": {},
   "outputs": [],
   "source": [
    "dataset = tf.data.Dataset.from_tensor_slices((path_list, label_list))\n",
    "dataset = dataset.map(\n",
    "    lambda path_list, label_list: tuple(tf.py_func(_read_py_function, [path_list, label_list], \n",
    "                                                  [tf.int32, tf.uint8])))"
   ]
  },
  {
   "cell_type": "code",
   "execution_count": 135,
   "metadata": {},
   "outputs": [],
   "source": [
    "dataset = dataset.map(_resize_function)\n",
    "dataset = dataset.repeat()\n",
    "dataset = dataset.shuffle(buffer_size=(int(len(path_list)*0.4)+3*batch_size))\n",
    "dataset = dataset.batch(batch_size)"
   ]
  },
  {
   "cell_type": "code",
   "execution_count": 136,
   "metadata": {},
   "outputs": [],
   "source": [
    "iterator = dataset.make_initializable_iterator()\n",
    "image_stacked, label_stacked = iterator.get_next()"
   ]
  },
  {
   "cell_type": "code",
   "execution_count": 137,
   "metadata": {},
   "outputs": [],
   "source": [
    "with tf.Session() as sess:\n",
    "    sess.run(iterator.initializer)\n",
    "    \n",
    "    image, label = sess.run([image_stacked, label_stacked])"
   ]
  },
  {
   "cell_type": "code",
   "execution_count": 138,
   "metadata": {},
   "outputs": [
    {
     "data": {
      "text/plain": [
       "(50176, (64, 28, 28, 1))"
      ]
     },
     "execution_count": 138,
     "metadata": {},
     "output_type": "execute_result"
    }
   ],
   "source": [
    "image.size, image.shape"
   ]
  },
  {
   "cell_type": "code",
   "execution_count": 144,
   "metadata": {},
   "outputs": [
    {
     "data": {
      "image/png": "[encoded data removed]",
      "text/plain": [
       "<matplotlib.figure.Figure at 0x10426acc0>"
      ]
     },
     "metadata": {},
     "output_type": "display_data"
    }
   ],
   "source": [
    "plt.title(label[5])\n",
    "plt.imshow(image[5, :, :, 0 ])\n",
    "plt.show()"
   ]
  },
  {
   "cell_type": "code",
   "execution_count": 102,
   "metadata": {},
   "outputs": [
    {
     "data": {
      "text/plain": [
       "<tf.Tensor 'IteratorGetNext_1:0' shape=(28, 28, ?) dtype=float32>"
      ]
     },
     "execution_count": 102,
     "metadata": {},
     "output_type": "execute_result"
    }
   ],
   "source": [
    "image_stacked"
   ]
  },
  {
   "cell_type": "code",
   "execution_count": 103,
   "metadata": {},
   "outputs": [
    {
     "data": {
      "text/plain": [
       "((28, 28, 1), (10,))"
      ]
     },
     "execution_count": 103,
     "metadata": {},
     "output_type": "execute_result"
    }
   ],
   "source": [
    "image.shape, label.shape"
   ]
  },
  {
   "cell_type": "code",
   "execution_count": null,
   "metadata": {},
   "outputs": [],
   "source": []
  },
  {
   "cell_type": "code",
   "execution_count": null,
   "metadata": {},
   "outputs": [],
   "source": []
  },
  {
   "cell_type": "code",
   "execution_count": null,
   "metadata": {},
   "outputs": [],
   "source": []
  }
 ],
 "metadata": {
  "kernelspec": {
   "display_name": "Python 3",
   "language": "python",
   "name": "python3"
  },
  "language_info": {
   "codemirror_mode": {
    "name": "ipython",
    "version": 3
   },
   "file_extension": ".py",
   "mimetype": "text/x-python",
   "name": "python",
   "nbconvert_exporter": "python",
   "pygments_lexer": "ipython3",
   "version": "3.6.4"
  }
 },
 "nbformat": 4,
 "nbformat_minor": 2
}
